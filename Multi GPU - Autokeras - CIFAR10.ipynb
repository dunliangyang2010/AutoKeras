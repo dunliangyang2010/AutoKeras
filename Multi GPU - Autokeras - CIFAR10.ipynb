{
 "cells": [
  {
   "cell_type": "code",
   "execution_count": 1,
   "id": "1d856830",
   "metadata": {},
   "outputs": [],
   "source": [
    "import autokeras as ak\n",
    "import tensorflow as tf\n",
    "from tensorflow.keras.datasets import cifar10 \n",
    "import matplotlib.pyplot as plt"
   ]
  },
  {
   "cell_type": "code",
   "execution_count": 2,
   "id": "2afaf582",
   "metadata": {
    "collapsed": true
   },
   "outputs": [
    {
     "name": "stdout",
     "output_type": "stream",
     "text": [
      "WARNING:tensorflow:From /tmp/ipykernel_679997/3761625412.py:2: is_gpu_available (from tensorflow.python.framework.test_util) is deprecated and will be removed in a future version.\n",
      "Instructions for updating:\n",
      "Use `tf.config.list_physical_devices('GPU')` instead.\n"
     ]
    },
    {
     "name": "stderr",
     "output_type": "stream",
     "text": [
      "2022-03-02 17:06:09.811950: I tensorflow/core/platform/cpu_feature_guard.cc:151] This TensorFlow binary is optimized with oneAPI Deep Neural Network Library (oneDNN) to use the following CPU instructions in performance-critical operations:  AVX2 AVX512F FMA\n",
      "To enable them in other operations, rebuild TensorFlow with the appropriate compiler flags.\n",
      "2022-03-02 17:06:15.020584: I tensorflow/core/common_runtime/gpu/gpu_device.cc:1525] Created device /device:GPU:0 with 14639 MB memory:  -> device: 0, name: Tesla V100-SXM2-16GB, pci bus id: 0000:1b:00.0, compute capability: 7.0\n",
      "2022-03-02 17:06:15.022408: I tensorflow/core/common_runtime/gpu/gpu_device.cc:1525] Created device /device:GPU:1 with 14639 MB memory:  -> device: 1, name: Tesla V100-SXM2-16GB, pci bus id: 0000:1c:00.0, compute capability: 7.0\n",
      "2022-03-02 17:06:15.023989: I tensorflow/core/common_runtime/gpu/gpu_device.cc:1525] Created device /device:GPU:2 with 14639 MB memory:  -> device: 2, name: Tesla V100-SXM2-16GB, pci bus id: 0000:3d:00.0, compute capability: 7.0\n",
      "2022-03-02 17:06:15.025558: I tensorflow/core/common_runtime/gpu/gpu_device.cc:1525] Created device /device:GPU:3 with 14639 MB memory:  -> device: 3, name: Tesla V100-SXM2-16GB, pci bus id: 0000:3e:00.0, compute capability: 7.0\n",
      "2022-03-02 17:06:15.027071: I tensorflow/core/common_runtime/gpu/gpu_device.cc:1525] Created device /device:GPU:4 with 14639 MB memory:  -> device: 4, name: Tesla V100-SXM2-16GB, pci bus id: 0000:88:00.0, compute capability: 7.0\n",
      "2022-03-02 17:06:15.028647: I tensorflow/core/common_runtime/gpu/gpu_device.cc:1525] Created device /device:GPU:5 with 14639 MB memory:  -> device: 5, name: Tesla V100-SXM2-16GB, pci bus id: 0000:89:00.0, compute capability: 7.0\n",
      "2022-03-02 17:06:15.030185: I tensorflow/core/common_runtime/gpu/gpu_device.cc:1525] Created device /device:GPU:6 with 14639 MB memory:  -> device: 6, name: Tesla V100-SXM2-16GB, pci bus id: 0000:db:00.0, compute capability: 7.0\n",
      "2022-03-02 17:06:15.031687: I tensorflow/core/common_runtime/gpu/gpu_device.cc:1525] Created device /device:GPU:7 with 14639 MB memory:  -> device: 7, name: Tesla V100-SXM2-16GB, pci bus id: 0000:dd:00.0, compute capability: 7.0\n"
     ]
    },
    {
     "data": {
      "text/plain": [
       "True"
      ]
     },
     "execution_count": 2,
     "metadata": {},
     "output_type": "execute_result"
    }
   ],
   "source": [
    "# check GPU is available\n",
    "tf.test.is_gpu_available()"
   ]
  },
  {
   "cell_type": "markdown",
   "id": "f03541ae",
   "metadata": {},
   "source": [
    "# Preparing the CIFAR-10 dataset"
   ]
  },
  {
   "cell_type": "code",
   "execution_count": 3,
   "id": "b9fa61a0",
   "metadata": {},
   "outputs": [
    {
     "name": "stdout",
     "output_type": "stream",
     "text": [
      "x_train:  (50000, 32, 32, 3)\n",
      "y_train:  (50000, 1)\n",
      "x_test:  (10000, 32, 32, 3)\n",
      "y_test:  (10000, 1)\n"
     ]
    }
   ],
   "source": [
    "(x_train, y_train), (x_test, y_test) = cifar10.load_data()\n",
    "print('x_train: ', x_train.shape) \n",
    "print('y_train: ', y_train.shape)\n",
    "print('x_test: ', x_test.shape) \n",
    "print('y_test: ', y_test.shape)"
   ]
  },
  {
   "cell_type": "code",
   "execution_count": 4,
   "id": "7a39c7dd",
   "metadata": {},
   "outputs": [
    {
     "data": {
      "image/png": "[encoded data removed]",
      "text/plain": [
       "<Figure size 432x288 with 2 Axes>"
      ]
     },
     "metadata": {
      "needs_background": "light"
     },
     "output_type": "display_data"
    }
   ],
   "source": [
    "import numpy as np\n",
    "\n",
    "train_histogram = np.histogram(y_train)\n",
    "test_histogram = np.histogram(y_test)\n",
    "_, axs = plt.subplots(1, 2)\n",
    "axs[0].set_xticks(range(10))\n",
    "axs[0].bar(range(10), train_histogram[0])\n",
    "axs[0].set_title('Train dataset histogram')\n",
    "axs[1].set_xticks(range(10))\n",
    "axs[1].bar(range(10), test_histogram[0])\n",
    "axs[1].set_title('Test dataset histogram')\n",
    "plt.show()"
   ]
  },
  {
   "cell_type": "markdown",
   "id": "5302886f",
   "metadata": {},
   "source": [
    "# Automodel"
   ]
  },
  {
   "cell_type": "code",
   "execution_count": 7,
   "id": "c5641836",
   "metadata": {},
   "outputs": [],
   "source": [
    "# callbacks\n",
    "callbacks = [ tf.keras.callbacks.EarlyStopping(patience=2) ]\n",
    "\n",
    "# node costruction\n",
    "# image input\n",
    "input_node = ak.ImageInput()\n",
    "\n",
    "# main model layers \n",
    "# efficient = EfficientNet\n",
    "output_node = ak.Normalization()(input_node) # normalization\n",
    "output_node = ak.EfficientNetBlock(version='b7',\n",
    "                                   pretrained=True)(output_node)\n",
    "\n",
    "output_node = ak.SpatialReduction(reduction_type='global_avg')(output_node) # pooling \n",
    "\n",
    "# classification layer\n",
    "output_node = ak.ClassificationHead(dropout=0)(output_node) # dropout=0\n",
    "\n",
    "# compile & fit\n",
    "model = ak.AutoModel(inputs=input_node, \n",
    "                     outputs=output_node, \n",
    "                     # tuner='bayesian',\n",
    "                     max_trials=2)"
   ]
  },
  {
   "cell_type": "markdown",
   "id": "831a3ae3",
   "metadata": {},
   "source": [
    "# Multi Strategy"
   ]
  },
  {
   "cell_type": "code",
   "execution_count": 5,
   "id": "c2b865cc",
   "metadata": {
    "scrolled": true
   },
   "outputs": [
    {
     "name": "stderr",
     "output_type": "stream",
     "text": [
      "2022-03-02 17:09:08.724258: I tensorflow/core/common_runtime/gpu/gpu_device.cc:1525] Created device /job:localhost/replica:0/task:0/device:GPU:0 with 14639 MB memory:  -> device: 0, name: Tesla V100-SXM2-16GB, pci bus id: 0000:1b:00.0, compute capability: 7.0\n",
      "2022-03-02 17:09:08.727544: I tensorflow/core/common_runtime/gpu/gpu_device.cc:1525] Created device /job:localhost/replica:0/task:0/device:GPU:1 with 14639 MB memory:  -> device: 1, name: Tesla V100-SXM2-16GB, pci bus id: 0000:1c:00.0, compute capability: 7.0\n",
      "2022-03-02 17:09:08.730861: I tensorflow/core/common_runtime/gpu/gpu_device.cc:1525] Created device /job:localhost/replica:0/task:0/device:GPU:2 with 14639 MB memory:  -> device: 2, name: Tesla V100-SXM2-16GB, pci bus id: 0000:3d:00.0, compute capability: 7.0\n",
      "2022-03-02 17:09:08.734132: I tensorflow/core/common_runtime/gpu/gpu_device.cc:1525] Created device /job:localhost/replica:0/task:0/device:GPU:3 with 14639 MB memory:  -> device: 3, name: Tesla V100-SXM2-16GB, pci bus id: 0000:3e:00.0, compute capability: 7.0\n",
      "2022-03-02 17:09:08.737366: I tensorflow/core/common_runtime/gpu/gpu_device.cc:1525] Created device /job:localhost/replica:0/task:0/device:GPU:4 with 14639 MB memory:  -> device: 4, name: Tesla V100-SXM2-16GB, pci bus id: 0000:88:00.0, compute capability: 7.0\n",
      "2022-03-02 17:09:08.740612: I tensorflow/core/common_runtime/gpu/gpu_device.cc:1525] Created device /job:localhost/replica:0/task:0/device:GPU:5 with 14639 MB memory:  -> device: 5, name: Tesla V100-SXM2-16GB, pci bus id: 0000:89:00.0, compute capability: 7.0\n",
      "2022-03-02 17:09:08.743813: I tensorflow/core/common_runtime/gpu/gpu_device.cc:1525] Created device /job:localhost/replica:0/task:0/device:GPU:6 with 14639 MB memory:  -> device: 6, name: Tesla V100-SXM2-16GB, pci bus id: 0000:db:00.0, compute capability: 7.0\n",
      "2022-03-02 17:09:08.747100: I tensorflow/core/common_runtime/gpu/gpu_device.cc:1525] Created device /job:localhost/replica:0/task:0/device:GPU:7 with 14639 MB memory:  -> device: 7, name: Tesla V100-SXM2-16GB, pci bus id: 0000:dd:00.0, compute capability: 7.0\n"
     ]
    },
    {
     "name": "stdout",
     "output_type": "stream",
     "text": [
      "INFO:tensorflow:Using MirroredStrategy with devices ('/job:localhost/replica:0/task:0/device:GPU:0', '/job:localhost/replica:0/task:0/device:GPU:1', '/job:localhost/replica:0/task:0/device:GPU:2', '/job:localhost/replica:0/task:0/device:GPU:3', '/job:localhost/replica:0/task:0/device:GPU:4', '/job:localhost/replica:0/task:0/device:GPU:5', '/job:localhost/replica:0/task:0/device:GPU:6', '/job:localhost/replica:0/task:0/device:GPU:7')\n"
     ]
    }
   ],
   "source": [
    "# 在所有GPU上設定同步策略\n",
    "mirrored_strategy = tf.distribute.MirroredStrategy()"
   ]
  },
  {
   "cell_type": "code",
   "execution_count": 8,
   "id": "e9d808b3",
   "metadata": {},
   "outputs": [
    {
     "name": "stdout",
     "output_type": "stream",
     "text": [
      "Trial 2 Complete [00h 05m 25s]\n",
      "val_loss: 1.183217167854309\n",
      "\n",
      "Best val_loss So Far: 1.183217167854309\n",
      "Total elapsed time: 00h 08m 29s\n",
      "INFO:tensorflow:Oracle triggered exit\n",
      "Epoch 1/10\n",
      "391/391 [==============================] - 93s 153ms/step - loss: 1.3902 - accuracy: 0.5124\n",
      "Epoch 2/10\n",
      "391/391 [==============================] - 60s 153ms/step - loss: 0.6008 - accuracy: 0.8030\n",
      "Epoch 3/10\n",
      "391/391 [==============================] - 59s 151ms/step - loss: 0.3464 - accuracy: 0.8867\n",
      "Epoch 4/10\n",
      "391/391 [==============================] - 58s 147ms/step - loss: 0.2083 - accuracy: 0.9320\n",
      "Epoch 5/10\n",
      "391/391 [==============================] - 59s 150ms/step - loss: 0.1322 - accuracy: 0.9575\n",
      "Epoch 6/10\n",
      "391/391 [==============================] - 58s 149ms/step - loss: 0.0798 - accuracy: 0.9745\n",
      "Epoch 7/10\n",
      "391/391 [==============================] - 58s 149ms/step - loss: 0.0458 - accuracy: 0.9858\n",
      "Epoch 8/10\n",
      "391/391 [==============================] - 58s 149ms/step - loss: 0.0256 - accuracy: 0.9919\n",
      "Epoch 9/10\n",
      "391/391 [==============================] - 57s 146ms/step - loss: 0.0106 - accuracy: 0.9965\n",
      "Epoch 10/10\n",
      "391/391 [==============================] - 57s 146ms/step - loss: 0.0048 - accuracy: 0.9985\n"
     ]
    },
    {
     "name": "stderr",
     "output_type": "stream",
     "text": [
      "2022-03-02 17:31:31.986909: W tensorflow/python/util/util.cc:368] Sets are not currently considered sequences, but this may change in the future, so consider avoiding using them.\n"
     ]
    },
    {
     "name": "stdout",
     "output_type": "stream",
     "text": [
      "INFO:tensorflow:Assets written to: ./auto_model/best_model/assets\n"
     ]
    },
    {
     "data": {
      "text/plain": [
       "<keras.callbacks.History at 0x7fd770258c70>"
      ]
     },
     "execution_count": 8,
     "metadata": {},
     "output_type": "execute_result"
    }
   ],
   "source": [
    "with mirrored_strategy.scope():\n",
    "    model = model\n",
    "\n",
    "model.fit(x_train, y_train,\n",
    "          batch_size=128,\n",
    "          callbacks=callbacks,\n",
    "          epochs=10)"
   ]
  },
  {
   "cell_type": "markdown",
   "id": "0582318f",
   "metadata": {},
   "source": [
    "# Evaluate"
   ]
  },
  {
   "cell_type": "code",
   "execution_count": 10,
   "id": "e7594fa4",
   "metadata": {},
   "outputs": [
    {
     "name": "stdout",
     "output_type": "stream",
     "text": [
      "313/313 [==============================] - 24s 62ms/step - loss: 0.7790 - accuracy: 0.8785\n"
     ]
    },
    {
     "data": {
      "text/plain": [
       "[0.7790425419807434, 0.8784999847412109]"
      ]
     },
     "execution_count": 10,
     "metadata": {},
     "output_type": "execute_result"
    }
   ],
   "source": [
    "model.evaluate(x_test, y_test)"
   ]
  },
  {
   "cell_type": "code",
   "execution_count": 13,
   "id": "90f89e08",
   "metadata": {},
   "outputs": [
    {
     "data": {
      "text/plain": [
       "8"
      ]
     },
     "execution_count": 13,
     "metadata": {},
     "output_type": "execute_result"
    }
   ],
   "source": [
    "# 觀察每張GPU分布運算情形, 原先batch_size為128, 有時遇到記憶體限制會自動調降, 平均分到8張GPU後,每個step各自負責64/8=8筆資料\n",
    "mirrored_strategy.num_replicas_in_sync"
   ]
  },
  {
   "cell_type": "code",
   "execution_count": null,
   "id": "98fa609a",
   "metadata": {},
   "outputs": [],
   "source": []
  }
 ],
 "metadata": {
  "kernelspec": {
   "display_name": "autokeras",
   "language": "python",
   "name": "autokeras"
  },
  "language_info": {
   "codemirror_mode": {
    "name": "ipython",
    "version": 3
   },
   "file_extension": ".py",
   "mimetype": "text/x-python",
   "name": "python",
   "nbconvert_exporter": "python",
   "pygments_lexer": "ipython3",
   "version": "3.9.7"
  }
 },
 "nbformat": 4,
 "nbformat_minor": 5
}
