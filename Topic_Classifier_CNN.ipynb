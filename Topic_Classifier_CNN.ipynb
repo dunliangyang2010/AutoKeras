{
  "nbformat": 4,
  "nbformat_minor": 0,
  "metadata": {
    "colab": {
      "name": "Topic Classifier-CNN.ipynb",
      "provenance": [],
      "collapsed_sections": [],
      "authorship_tag": "ABX9TyMHRExRYDIHm0aO2c+FUOBw",
      "include_colab_link": true
    },
    "kernelspec": {
      "name": "python3",
      "display_name": "Python 3"
    },
    "language_info": {
      "name": "python"
    }
  },
  "cells": [
    {
      "cell_type": "markdown",
      "metadata": {
        "id": "view-in-github",
        "colab_type": "text"
      },
      "source": [
        "<a href=\"https://colab.research.google.com/github/dunliangyang2010/AutoKeras/blob/main/Topic_Classifier_CNN.ipynb\" target=\"_parent\"><img src=\"https://colab.research.google.com/assets/colab-badge.svg\" alt=\"Open In Colab\"/></a>"
      ]
    },
    {
      "cell_type": "code",
      "source": [
        "!pip install autokeras"
      ],
      "metadata": {
        "id": "p28iYqouM3nu"
      },
      "execution_count": null,
      "outputs": []
    },
    {
      "cell_type": "code",
      "execution_count": 2,
      "metadata": {
        "id": "x_I6AMmiKqRJ"
      },
      "outputs": [],
      "source": [
        "import numpy as np\n",
        "import matplotlib.pyplot as plt\n",
        "import tensorflow as tf\n",
        "import autokeras as ak"
      ]
    },
    {
      "cell_type": "code",
      "source": [
        "from sklearn.datasets import fetch_20newsgroups\n",
        "\n",
        "train = fetch_20newsgroups(subset='train')\n",
        "\n",
        "# veiw of labels on training set\n",
        "train.target_names"
      ],
      "metadata": {
        "colab": {
          "base_uri": "https://localhost:8080/"
        },
        "id": "hv6C05VyN_ZN",
        "outputId": "046e1d25-6595-4abc-8efb-3adeb120e889"
      },
      "execution_count": 3,
      "outputs": [
        {
          "output_type": "execute_result",
          "data": {
            "text/plain": [
              "['alt.atheism',\n",
              " 'comp.graphics',\n",
              " 'comp.os.ms-windows.misc',\n",
              " 'comp.sys.ibm.pc.hardware',\n",
              " 'comp.sys.mac.hardware',\n",
              " 'comp.windows.x',\n",
              " 'misc.forsale',\n",
              " 'rec.autos',\n",
              " 'rec.motorcycles',\n",
              " 'rec.sport.baseball',\n",
              " 'rec.sport.hockey',\n",
              " 'sci.crypt',\n",
              " 'sci.electronics',\n",
              " 'sci.med',\n",
              " 'sci.space',\n",
              " 'soc.religion.christian',\n",
              " 'talk.politics.guns',\n",
              " 'talk.politics.mideast',\n",
              " 'talk.politics.misc',\n",
              " 'talk.religion.misc']"
            ]
          },
          "metadata": {},
          "execution_count": 3
        }
      ]
    },
    {
      "cell_type": "markdown",
      "source": [
        "# Preprocessing"
      ],
      "metadata": {
        "id": "Qo_rFiO6UXNy"
      }
    },
    {
      "cell_type": "code",
      "source": [
        "# label choosing\n",
        "categories = ['comp.sys.ibm.pc.hardware',\n",
        "        'rec.autos',\n",
        "        'rec.sport.baseball',\n",
        "        'sci.med',\n",
        "        'sci.space',\n",
        "        'talk.politics.mideast',]\n",
        "# 取得含有指定標籤之資料訓練集,並移除原資料集的標頭,註腳及引言\n",
        "train = fetch_20newsgroups(subset='train',\n",
        "              categories=categories,\n",
        "              remove=('headers', 'footers', 'quotes'))\n",
        "# 取得含有指定標籤之資料測試集\n",
        "test = fetch_20newsgroups(subset='test',\n",
        "              categories=categories,\n",
        "              remove=('headers', 'footers', 'quotes'))\n",
        "# convert returned list to ndarray\n",
        "x_train = np.array(train.data)\n",
        "y_train = np.array(train.target)\n",
        "x_test = np.array(test.data)\n",
        "y_test = np.array(test.target)\n",
        "\n",
        "print(x_train.shape)\n",
        "print(x_test.shape)"
      ],
      "metadata": {
        "colab": {
          "base_uri": "https://localhost:8080/"
        },
        "id": "67YF9QTUOlRT",
        "outputId": "6316b306-6c48-45f1-a304-bbfae83fe58c"
      },
      "execution_count": 5,
      "outputs": [
        {
          "output_type": "stream",
          "name": "stdout",
          "text": [
            "(3532,)\n",
            "(2351,)\n"
          ]
        }
      ]
    },
    {
      "cell_type": "code",
      "source": [
        "fig = plt.figure()\n",
        "bin = np.arange(len(categories)+1)\n",
        "labels = ('PC hardware', 'Automobile', 'Baseball', 'Medicine', 'Space', 'Politics', '') # last empty label for show figure correctly\n",
        "ax = fig.add_subplot(1,2,1)\n",
        "ax.set_xticks(bin)\n",
        "ax.set_xticklabels(labels, rotation=90)\n",
        "plt.hist(y_train, bins=bin-0.5, rwidth=0.9)\n",
        "ax.set_title('Train dataset histogram')\n",
        "\n",
        "ax = fig.add_subplot(1,2,2)\n",
        "ax.set_xticks(bin)\n",
        "ax.set_xticklabels(labels, rotation=90)\n",
        "plt.hist(y_test, bins=bin-0.5, rwidth=0.9)\n",
        "ax.set_title('Test dataset histogram')\n",
        "\n",
        "plt.tight_layout()\n",
        "plt.show()"
      ],
      "metadata": {
        "colab": {
          "base_uri": "https://localhost:8080/",
          "height": 297
        },
        "id": "lVhKynWTUZz3",
        "outputId": "57d12360-6141-4bb4-f35f-ca8d00dddf69"
      },
      "execution_count": 7,
      "outputs": [
        {
          "output_type": "display_data",
          "data": {
            "image/png": "[encoded data removed]",
            "text/plain": [
              "<Figure size 432x288 with 2 Axes>"
            ]
          },
          "metadata": {
            "needs_background": "light"
          }
        }
      ]
    },
    {
      "cell_type": "markdown",
      "source": [
        "# Model (CNN)"
      ],
      "metadata": {
        "id": "Gq93wS2IWnzj"
      }
    },
    {
      "cell_type": "code",
      "source": [
        "# from Keras Tuner import Choice class to set Hyperparameters\n",
        "from keras_tuner.engine.hyperparameters import Choice\n",
        "\n",
        "# load vector hyperparameters (word2vec TransferLearning)\n",
        "pretraining = Choice(name='pretraining', values=['word2vec'])\n",
        "\n",
        "# convolution block 只設1個\n",
        "num_blocks = Choice(name='num_blocks', values=[1])\n",
        "callbacks=[tf.keras.callbacks.EarlyStopping(patience=3)]\n",
        "\n",
        "# 為讓文字資料能夠餵CNN,需先以TextToIntSequence將文字轉數列,接著用Embedding轉換成文字向量\n",
        "# input node\n",
        "input_node = ak.TextInput()\n",
        "\n",
        "# output node\n",
        "output_node = ak.TextToIntSequence(max_tokens=50000)(input_node)\n",
        "\n",
        "# Embedding\n",
        "output_node = ak.Embedding(max_features=50000, pretraining=pretraining)(output_node)\n",
        "\n",
        "# Convolution\n",
        "output_node = ak.ConvBlock(\n",
        "    num_blocks=num_blocks, # conv block numbers\n",
        "    separable=True, # separable conv (Xception)\n",
        "    max_pooling=True # local max pooling\n",
        ")(output_node)\n",
        "\n",
        "# Pooling (Global max pooling)\n",
        "output_node = ak.SpatialReduction(reduction_type='global_max')(output_node)\n",
        "\n",
        "# classification\n",
        "output_node = ak.ClassificationHead()(output_node)\n",
        "\n",
        "clf = ak.AutoModel(inputs=input_node, outputs=output_node, max_trials=15, overwrite=True)\n",
        "clf.fit(x_train, y_train, callbacks=callbacks)"
      ],
      "metadata": {
        "colab": {
          "base_uri": "https://localhost:8080/",
          "height": 1000
        },
        "id": "_Yp-iNRXWp9s",
        "outputId": "76c6a15a-9a6a-44d2-8496-0853396a37f2"
      },
      "execution_count": 20,
      "outputs": [
        {
          "output_type": "stream",
          "name": "stdout",
          "text": [
            "Trial 15 Complete [00h 06m 43s]\n",
            "val_loss: 0.47017335891723633\n",
            "\n",
            "Best val_loss So Far: 0.4249002933502197\n",
            "Total elapsed time: 00h 06m 43s\n",
            "\n",
            "Search: Running Trial #16\n",
            "\n",
            "Hyperparameter    |Value             |Best Value So Far \n",
            "text_to_int_seq...|512               |512               \n",
            "embedding_1/pre...|word2vec          |word2vec          \n",
            "embedding_1/emb...|128               |128               \n",
            "embedding_1/dro...|0.25              |0.25              \n",
            "conv_block_1/ke...|7                 |7                 \n",
            "conv_block_1/dr...|0.5               |0.5               \n",
            "conv_block_1/nu...|1                 |1                 \n",
            "conv_block_1/nu...|1                 |1                 \n",
            "conv_block_1/fi...|32                |32                \n",
            "conv_block_1/fi...|32                |32                \n",
            "classification_...|0.5               |0.5               \n",
            "optimizer         |adam              |adam              \n",
            "learning_rate     |2e-05             |0.001             \n",
            "\n",
            "Epoch 1/1000\n",
            "89/89 [==============================] - 14s 145ms/step - loss: 1.7918 - accuracy: 0.1752 - val_loss: 1.7918 - val_accuracy: 0.1623\n",
            "Epoch 2/1000\n",
            "89/89 [==============================] - 13s 145ms/step - loss: 1.7914 - accuracy: 0.1728 - val_loss: 1.7917 - val_accuracy: 0.1637\n",
            "Epoch 3/1000\n",
            "89/89 [==============================] - 13s 143ms/step - loss: 1.7925 - accuracy: 0.1738 - val_loss: 1.7917 - val_accuracy: 0.1652\n",
            "Epoch 4/1000\n",
            "89/89 [==============================] - 13s 143ms/step - loss: 1.7922 - accuracy: 0.1615 - val_loss: 1.7916 - val_accuracy: 0.1652\n",
            "Epoch 5/1000\n",
            "89/89 [==============================] - 13s 144ms/step - loss: 1.7917 - accuracy: 0.1657 - val_loss: 1.7916 - val_accuracy: 0.1652\n",
            "Epoch 6/1000\n",
            "89/89 [==============================] - 13s 145ms/step - loss: 1.7906 - accuracy: 0.1826 - val_loss: 1.7915 - val_accuracy: 0.1667\n",
            "Epoch 7/1000\n",
            "89/89 [==============================] - 13s 145ms/step - loss: 1.7915 - accuracy: 0.1710 - val_loss: 1.7915 - val_accuracy: 0.1725\n",
            "Epoch 8/1000\n",
            "89/89 [==============================] - 13s 144ms/step - loss: 1.7910 - accuracy: 0.1791 - val_loss: 1.7915 - val_accuracy: 0.1725\n",
            "Epoch 9/1000\n",
            "89/89 [==============================] - 13s 143ms/step - loss: 1.7908 - accuracy: 0.1801 - val_loss: 1.7914 - val_accuracy: 0.1740\n",
            "Epoch 10/1000\n",
            "89/89 [==============================] - 13s 143ms/step - loss: 1.7905 - accuracy: 0.1812 - val_loss: 1.7914 - val_accuracy: 0.1798\n",
            "Epoch 11/1000\n",
            "89/89 [==============================] - 13s 142ms/step - loss: 1.7894 - accuracy: 0.1931 - val_loss: 1.7913 - val_accuracy: 0.1827\n",
            "Epoch 12/1000\n",
            "89/89 [==============================] - 13s 143ms/step - loss: 1.7895 - accuracy: 0.1910 - val_loss: 1.7913 - val_accuracy: 0.1915\n",
            "Epoch 13/1000\n",
            "89/89 [==============================] - 13s 143ms/step - loss: 1.7897 - accuracy: 0.1879 - val_loss: 1.7912 - val_accuracy: 0.1959\n",
            "Epoch 14/1000\n",
            "89/89 [==============================] - 13s 143ms/step - loss: 1.7889 - accuracy: 0.1889 - val_loss: 1.7911 - val_accuracy: 0.2003\n",
            "Epoch 15/1000\n",
            "89/89 [==============================] - 13s 144ms/step - loss: 1.7893 - accuracy: 0.1836 - val_loss: 1.7911 - val_accuracy: 0.2061\n",
            "Epoch 16/1000\n",
            "89/89 [==============================] - 13s 142ms/step - loss: 1.7882 - accuracy: 0.1963 - val_loss: 1.7910 - val_accuracy: 0.2061\n",
            "Epoch 17/1000\n",
            "89/89 [==============================] - 13s 144ms/step - loss: 1.7888 - accuracy: 0.2061 - val_loss: 1.7910 - val_accuracy: 0.2061\n",
            "Epoch 18/1000\n",
            "89/89 [==============================] - 13s 144ms/step - loss: 1.7892 - accuracy: 0.1917 - val_loss: 1.7909 - val_accuracy: 0.2047\n",
            "Epoch 19/1000\n",
            "89/89 [==============================] - 13s 144ms/step - loss: 1.7871 - accuracy: 0.2114 - val_loss: 1.7908 - val_accuracy: 0.2091\n",
            "Epoch 20/1000\n",
            "89/89 [==============================] - 13s 144ms/step - loss: 1.7869 - accuracy: 0.2089 - val_loss: 1.7907 - val_accuracy: 0.2105\n",
            "Epoch 21/1000\n",
            "89/89 [==============================] - 13s 144ms/step - loss: 1.7875 - accuracy: 0.2107 - val_loss: 1.7907 - val_accuracy: 0.2149\n",
            "Epoch 22/1000\n",
            "89/89 [==============================] - 13s 143ms/step - loss: 1.7871 - accuracy: 0.2117 - val_loss: 1.7906 - val_accuracy: 0.2135\n",
            "Epoch 23/1000\n",
            "89/89 [==============================] - 13s 144ms/step - loss: 1.7877 - accuracy: 0.2051 - val_loss: 1.7905 - val_accuracy: 0.2164\n",
            "Epoch 24/1000\n",
            "89/89 [==============================] - 13s 147ms/step - loss: 1.7866 - accuracy: 0.2096 - val_loss: 1.7904 - val_accuracy: 0.2266\n",
            "Epoch 25/1000\n",
            "89/89 [==============================] - 13s 143ms/step - loss: 1.7854 - accuracy: 0.2184 - val_loss: 1.7903 - val_accuracy: 0.2266\n",
            "Epoch 26/1000\n",
            "89/89 [==============================] - 13s 144ms/step - loss: 1.7860 - accuracy: 0.2093 - val_loss: 1.7902 - val_accuracy: 0.2310\n",
            "Epoch 27/1000\n",
            "89/89 [==============================] - 13s 146ms/step - loss: 1.7862 - accuracy: 0.2268 - val_loss: 1.7901 - val_accuracy: 0.2266\n",
            "Epoch 28/1000\n",
            "89/89 [==============================] - 13s 144ms/step - loss: 1.7853 - accuracy: 0.2205 - val_loss: 1.7900 - val_accuracy: 0.2310\n",
            "Epoch 29/1000\n",
            "89/89 [==============================] - 13s 144ms/step - loss: 1.7853 - accuracy: 0.2124 - val_loss: 1.7899 - val_accuracy: 0.2339\n",
            "Epoch 30/1000\n",
            "89/89 [==============================] - 17s 189ms/step - loss: 1.7849 - accuracy: 0.2261 - val_loss: 1.7898 - val_accuracy: 0.2412\n",
            "Epoch 31/1000\n",
            "89/89 [==============================] - 13s 146ms/step - loss: 1.7843 - accuracy: 0.2300 - val_loss: 1.7897 - val_accuracy: 0.2354\n",
            "Epoch 32/1000\n",
            "89/89 [==============================] - 13s 144ms/step - loss: 1.7844 - accuracy: 0.2286 - val_loss: 1.7895 - val_accuracy: 0.2354\n",
            "Epoch 33/1000\n",
            "89/89 [==============================] - 13s 143ms/step - loss: 1.7837 - accuracy: 0.2237 - val_loss: 1.7894 - val_accuracy: 0.2325\n",
            "Epoch 34/1000\n",
            "89/89 [==============================] - 13s 144ms/step - loss: 1.7844 - accuracy: 0.2331 - val_loss: 1.7893 - val_accuracy: 0.2354\n",
            "Epoch 35/1000\n",
            "89/89 [==============================] - 13s 145ms/step - loss: 1.7837 - accuracy: 0.2324 - val_loss: 1.7892 - val_accuracy: 0.2383\n",
            "Epoch 36/1000\n",
            "89/89 [==============================] - 13s 145ms/step - loss: 1.7840 - accuracy: 0.2268 - val_loss: 1.7891 - val_accuracy: 0.2427\n",
            "Epoch 37/1000\n",
            "89/89 [==============================] - 13s 148ms/step - loss: 1.7832 - accuracy: 0.2388 - val_loss: 1.7889 - val_accuracy: 0.2456\n",
            "Epoch 38/1000\n",
            "89/89 [==============================] - 13s 144ms/step - loss: 1.7824 - accuracy: 0.2370 - val_loss: 1.7888 - val_accuracy: 0.2500\n",
            "Epoch 39/1000\n",
            "89/89 [==============================] - 13s 144ms/step - loss: 1.7824 - accuracy: 0.2342 - val_loss: 1.7887 - val_accuracy: 0.2515\n",
            "Epoch 40/1000\n",
            "89/89 [==============================] - 13s 145ms/step - loss: 1.7826 - accuracy: 0.2388 - val_loss: 1.7885 - val_accuracy: 0.2558\n",
            "Epoch 41/1000\n",
            "89/89 [==============================] - 13s 145ms/step - loss: 1.7817 - accuracy: 0.2433 - val_loss: 1.7884 - val_accuracy: 0.2544\n",
            "Epoch 42/1000\n",
            "89/89 [==============================] - 13s 144ms/step - loss: 1.7812 - accuracy: 0.2486 - val_loss: 1.7882 - val_accuracy: 0.2558\n",
            "Epoch 43/1000\n",
            "89/89 [==============================] - 13s 144ms/step - loss: 1.7804 - accuracy: 0.2504 - val_loss: 1.7881 - val_accuracy: 0.2588\n",
            "Epoch 44/1000\n",
            "89/89 [==============================] - 13s 144ms/step - loss: 1.7807 - accuracy: 0.2353 - val_loss: 1.7879 - val_accuracy: 0.2573\n",
            "Epoch 45/1000\n",
            "89/89 [==============================] - 13s 145ms/step - loss: 1.7800 - accuracy: 0.2496 - val_loss: 1.7877 - val_accuracy: 0.2573\n",
            "Epoch 46/1000\n",
            "89/89 [==============================] - 13s 143ms/step - loss: 1.7788 - accuracy: 0.2605 - val_loss: 1.7876 - val_accuracy: 0.2588\n",
            "Epoch 47/1000\n",
            "89/89 [==============================] - 13s 144ms/step - loss: 1.7787 - accuracy: 0.2637 - val_loss: 1.7874 - val_accuracy: 0.2588\n",
            "Epoch 48/1000\n",
            "89/89 [==============================] - 13s 144ms/step - loss: 1.7789 - accuracy: 0.2451 - val_loss: 1.7872 - val_accuracy: 0.2646\n",
            "Epoch 49/1000\n",
            "89/89 [==============================] - 13s 145ms/step - loss: 1.7794 - accuracy: 0.2577 - val_loss: 1.7871 - val_accuracy: 0.2675\n",
            "Epoch 50/1000\n",
            "89/89 [==============================] - 13s 143ms/step - loss: 1.7780 - accuracy: 0.2630 - val_loss: 1.7869 - val_accuracy: 0.2734\n",
            "Epoch 51/1000\n",
            "89/89 [==============================] - 13s 145ms/step - loss: 1.7779 - accuracy: 0.2612 - val_loss: 1.7867 - val_accuracy: 0.2734\n",
            "Epoch 52/1000\n",
            "89/89 [==============================] - 13s 151ms/step - loss: 1.7779 - accuracy: 0.2602 - val_loss: 1.7865 - val_accuracy: 0.2749\n",
            "Epoch 53/1000\n",
            "89/89 [==============================] - 13s 144ms/step - loss: 1.7786 - accuracy: 0.2623 - val_loss: 1.7863 - val_accuracy: 0.2778\n",
            "Epoch 54/1000\n",
            "89/89 [==============================] - 13s 145ms/step - loss: 1.7775 - accuracy: 0.2763 - val_loss: 1.7861 - val_accuracy: 0.2807\n",
            "Epoch 55/1000\n",
            "89/89 [==============================] - 13s 143ms/step - loss: 1.7777 - accuracy: 0.2679 - val_loss: 1.7859 - val_accuracy: 0.2807\n",
            "Epoch 56/1000\n",
            "89/89 [==============================] - 13s 143ms/step - loss: 1.7768 - accuracy: 0.2672 - val_loss: 1.7857 - val_accuracy: 0.2822\n",
            "Epoch 57/1000\n",
            "89/89 [==============================] - 13s 143ms/step - loss: 1.7743 - accuracy: 0.2802 - val_loss: 1.7855 - val_accuracy: 0.2851\n",
            "Epoch 58/1000\n",
            "89/89 [==============================] - 13s 145ms/step - loss: 1.7740 - accuracy: 0.2809 - val_loss: 1.7852 - val_accuracy: 0.2865\n",
            "Epoch 59/1000\n",
            "89/89 [==============================] - 13s 145ms/step - loss: 1.7722 - accuracy: 0.2981 - val_loss: 1.7850 - val_accuracy: 0.2851\n",
            "Epoch 60/1000\n",
            "89/89 [==============================] - 13s 144ms/step - loss: 1.7734 - accuracy: 0.2963 - val_loss: 1.7847 - val_accuracy: 0.2836\n",
            "Epoch 61/1000\n",
            "89/89 [==============================] - 13s 144ms/step - loss: 1.7725 - accuracy: 0.2848 - val_loss: 1.7845 - val_accuracy: 0.2851\n",
            "Epoch 62/1000\n",
            "89/89 [==============================] - 13s 144ms/step - loss: 1.7705 - accuracy: 0.2981 - val_loss: 1.7842 - val_accuracy: 0.2865\n",
            "Epoch 63/1000\n",
            "89/89 [==============================] - 13s 144ms/step - loss: 1.7713 - accuracy: 0.2827 - val_loss: 1.7839 - val_accuracy: 0.2939\n",
            "Epoch 64/1000\n",
            "89/89 [==============================] - 13s 143ms/step - loss: 1.7703 - accuracy: 0.2942 - val_loss: 1.7837 - val_accuracy: 0.2953\n",
            "Epoch 65/1000\n",
            "89/89 [==============================] - 16s 178ms/step - loss: 1.7699 - accuracy: 0.2981 - val_loss: 1.7834 - val_accuracy: 0.2982\n",
            "Epoch 66/1000\n",
            "89/89 [==============================] - 13s 147ms/step - loss: 1.7686 - accuracy: 0.3076 - val_loss: 1.7830 - val_accuracy: 0.3012\n",
            "Epoch 67/1000\n",
            "73/89 [=======================>......] - ETA: 2s - loss: 1.7695 - accuracy: 0.2971"
          ]
        },
        {
          "output_type": "error",
          "ename": "KeyboardInterrupt",
          "evalue": "ignored",
          "traceback": [
            "\u001b[0;31m---------------------------------------------------------------------------\u001b[0m",
            "\u001b[0;31mKeyboardInterrupt\u001b[0m                         Traceback (most recent call last)",
            "\u001b[0;32m<ipython-input-20-ffa637d9fafe>\u001b[0m in \u001b[0;36m<module>\u001b[0;34m()\u001b[0m\n\u001b[1;32m     33\u001b[0m \u001b[0;34m\u001b[0m\u001b[0m\n\u001b[1;32m     34\u001b[0m \u001b[0mclf\u001b[0m \u001b[0;34m=\u001b[0m \u001b[0mak\u001b[0m\u001b[0;34m.\u001b[0m\u001b[0mAutoModel\u001b[0m\u001b[0;34m(\u001b[0m\u001b[0minputs\u001b[0m\u001b[0;34m=\u001b[0m\u001b[0minput_node\u001b[0m\u001b[0;34m,\u001b[0m \u001b[0moutputs\u001b[0m\u001b[0;34m=\u001b[0m\u001b[0moutput_node\u001b[0m\u001b[0;34m,\u001b[0m \u001b[0mmax_trials\u001b[0m\u001b[0;34m=\u001b[0m\u001b[0;36m15\u001b[0m\u001b[0;34m,\u001b[0m\u001b[0;34m)\u001b[0m \u001b[0;31m#overwrite=True)\u001b[0m\u001b[0;34m\u001b[0m\u001b[0;34m\u001b[0m\u001b[0m\n\u001b[0;32m---> 35\u001b[0;31m \u001b[0mclf\u001b[0m\u001b[0;34m.\u001b[0m\u001b[0mfit\u001b[0m\u001b[0;34m(\u001b[0m\u001b[0mx_train\u001b[0m\u001b[0;34m,\u001b[0m \u001b[0my_train\u001b[0m\u001b[0;34m,\u001b[0m \u001b[0mcallbacks\u001b[0m\u001b[0;34m=\u001b[0m\u001b[0mcallbacks\u001b[0m\u001b[0;34m)\u001b[0m\u001b[0;34m\u001b[0m\u001b[0;34m\u001b[0m\u001b[0m\n\u001b[0m",
            "\u001b[0;32m/usr/local/lib/python3.7/dist-packages/autokeras/auto_model.py\u001b[0m in \u001b[0;36mfit\u001b[0;34m(self, x, y, batch_size, epochs, callbacks, validation_split, validation_data, verbose, **kwargs)\u001b[0m\n\u001b[1;32m    296\u001b[0m             \u001b[0mvalidation_split\u001b[0m\u001b[0;34m=\u001b[0m\u001b[0mvalidation_split\u001b[0m\u001b[0;34m,\u001b[0m\u001b[0;34m\u001b[0m\u001b[0;34m\u001b[0m\u001b[0m\n\u001b[1;32m    297\u001b[0m             \u001b[0mverbose\u001b[0m\u001b[0;34m=\u001b[0m\u001b[0mverbose\u001b[0m\u001b[0;34m,\u001b[0m\u001b[0;34m\u001b[0m\u001b[0;34m\u001b[0m\u001b[0m\n\u001b[0;32m--> 298\u001b[0;31m             \u001b[0;34m**\u001b[0m\u001b[0mkwargs\u001b[0m\u001b[0;34m\u001b[0m\u001b[0;34m\u001b[0m\u001b[0m\n\u001b[0m\u001b[1;32m    299\u001b[0m         )\n\u001b[1;32m    300\u001b[0m \u001b[0;34m\u001b[0m\u001b[0m\n",
            "\u001b[0;32m/usr/local/lib/python3.7/dist-packages/autokeras/engine/tuner.py\u001b[0m in \u001b[0;36msearch\u001b[0;34m(self, epochs, callbacks, validation_split, verbose, **fit_kwargs)\u001b[0m\n\u001b[1;32m    192\u001b[0m         \u001b[0mself\u001b[0m\u001b[0;34m.\u001b[0m\u001b[0moracle\u001b[0m\u001b[0;34m.\u001b[0m\u001b[0mupdate_space\u001b[0m\u001b[0;34m(\u001b[0m\u001b[0mhp\u001b[0m\u001b[0;34m)\u001b[0m\u001b[0;34m\u001b[0m\u001b[0;34m\u001b[0m\u001b[0m\n\u001b[1;32m    193\u001b[0m         super().search(\n\u001b[0;32m--> 194\u001b[0;31m             \u001b[0mepochs\u001b[0m\u001b[0;34m=\u001b[0m\u001b[0mepochs\u001b[0m\u001b[0;34m,\u001b[0m \u001b[0mcallbacks\u001b[0m\u001b[0;34m=\u001b[0m\u001b[0mnew_callbacks\u001b[0m\u001b[0;34m,\u001b[0m \u001b[0mverbose\u001b[0m\u001b[0;34m=\u001b[0m\u001b[0mverbose\u001b[0m\u001b[0;34m,\u001b[0m \u001b[0;34m**\u001b[0m\u001b[0mfit_kwargs\u001b[0m\u001b[0;34m\u001b[0m\u001b[0;34m\u001b[0m\u001b[0m\n\u001b[0m\u001b[1;32m    195\u001b[0m         )\n\u001b[1;32m    196\u001b[0m \u001b[0;34m\u001b[0m\u001b[0m\n",
            "\u001b[0;32m/usr/local/lib/python3.7/dist-packages/keras_tuner/engine/base_tuner.py\u001b[0m in \u001b[0;36msearch\u001b[0;34m(self, *fit_args, **fit_kwargs)\u001b[0m\n\u001b[1;32m    177\u001b[0m \u001b[0;34m\u001b[0m\u001b[0m\n\u001b[1;32m    178\u001b[0m             \u001b[0mself\u001b[0m\u001b[0;34m.\u001b[0m\u001b[0mon_trial_begin\u001b[0m\u001b[0;34m(\u001b[0m\u001b[0mtrial\u001b[0m\u001b[0;34m)\u001b[0m\u001b[0;34m\u001b[0m\u001b[0;34m\u001b[0m\u001b[0m\n\u001b[0;32m--> 179\u001b[0;31m             \u001b[0mresults\u001b[0m \u001b[0;34m=\u001b[0m \u001b[0mself\u001b[0m\u001b[0;34m.\u001b[0m\u001b[0mrun_trial\u001b[0m\u001b[0;34m(\u001b[0m\u001b[0mtrial\u001b[0m\u001b[0;34m,\u001b[0m \u001b[0;34m*\u001b[0m\u001b[0mfit_args\u001b[0m\u001b[0;34m,\u001b[0m \u001b[0;34m**\u001b[0m\u001b[0mfit_kwargs\u001b[0m\u001b[0;34m)\u001b[0m\u001b[0;34m\u001b[0m\u001b[0;34m\u001b[0m\u001b[0m\n\u001b[0m\u001b[1;32m    180\u001b[0m             \u001b[0;31m# `results` is None indicates user updated oracle in `run_trial()`.\u001b[0m\u001b[0;34m\u001b[0m\u001b[0;34m\u001b[0m\u001b[0;34m\u001b[0m\u001b[0m\n\u001b[1;32m    181\u001b[0m             \u001b[0;32mif\u001b[0m \u001b[0mresults\u001b[0m \u001b[0;32mis\u001b[0m \u001b[0;32mNone\u001b[0m\u001b[0;34m:\u001b[0m\u001b[0;34m\u001b[0m\u001b[0;34m\u001b[0m\u001b[0m\n",
            "\u001b[0;32m/usr/local/lib/python3.7/dist-packages/keras_tuner/engine/tuner.py\u001b[0m in \u001b[0;36mrun_trial\u001b[0;34m(self, trial, *args, **kwargs)\u001b[0m\n\u001b[1;32m    302\u001b[0m             \u001b[0mcallbacks\u001b[0m\u001b[0;34m.\u001b[0m\u001b[0mappend\u001b[0m\u001b[0;34m(\u001b[0m\u001b[0mmodel_checkpoint\u001b[0m\u001b[0;34m)\u001b[0m\u001b[0;34m\u001b[0m\u001b[0;34m\u001b[0m\u001b[0m\n\u001b[1;32m    303\u001b[0m             \u001b[0mcopied_kwargs\u001b[0m\u001b[0;34m[\u001b[0m\u001b[0;34m\"callbacks\"\u001b[0m\u001b[0;34m]\u001b[0m \u001b[0;34m=\u001b[0m \u001b[0mcallbacks\u001b[0m\u001b[0;34m\u001b[0m\u001b[0;34m\u001b[0m\u001b[0m\n\u001b[0;32m--> 304\u001b[0;31m             \u001b[0mobj_value\u001b[0m \u001b[0;34m=\u001b[0m \u001b[0mself\u001b[0m\u001b[0;34m.\u001b[0m\u001b[0m_build_and_fit_model\u001b[0m\u001b[0;34m(\u001b[0m\u001b[0mtrial\u001b[0m\u001b[0;34m,\u001b[0m \u001b[0;34m*\u001b[0m\u001b[0margs\u001b[0m\u001b[0;34m,\u001b[0m \u001b[0;34m**\u001b[0m\u001b[0mcopied_kwargs\u001b[0m\u001b[0;34m)\u001b[0m\u001b[0;34m\u001b[0m\u001b[0;34m\u001b[0m\u001b[0m\n\u001b[0m\u001b[1;32m    305\u001b[0m \u001b[0;34m\u001b[0m\u001b[0m\n\u001b[1;32m    306\u001b[0m             \u001b[0;31m# objective left unspecified,\u001b[0m\u001b[0;34m\u001b[0m\u001b[0;34m\u001b[0m\u001b[0;34m\u001b[0m\u001b[0m\n",
            "\u001b[0;32m/usr/local/lib/python3.7/dist-packages/autokeras/engine/tuner.py\u001b[0m in \u001b[0;36m_build_and_fit_model\u001b[0;34m(self, trial, *args, **kwargs)\u001b[0m\n\u001b[1;32m    100\u001b[0m \u001b[0;34m\u001b[0m\u001b[0m\n\u001b[1;32m    101\u001b[0m         _, history = utils.fit_with_adaptive_batch_size(\n\u001b[0;32m--> 102\u001b[0;31m             \u001b[0mmodel\u001b[0m\u001b[0;34m,\u001b[0m \u001b[0mself\u001b[0m\u001b[0;34m.\u001b[0m\u001b[0mhypermodel\u001b[0m\u001b[0;34m.\u001b[0m\u001b[0mbatch_size\u001b[0m\u001b[0;34m,\u001b[0m \u001b[0;34m**\u001b[0m\u001b[0mkwargs\u001b[0m\u001b[0;34m\u001b[0m\u001b[0;34m\u001b[0m\u001b[0m\n\u001b[0m\u001b[1;32m    103\u001b[0m         )\n\u001b[1;32m    104\u001b[0m         \u001b[0;32mreturn\u001b[0m \u001b[0mhistory\u001b[0m\u001b[0;34m\u001b[0m\u001b[0;34m\u001b[0m\u001b[0m\n",
            "\u001b[0;32m/usr/local/lib/python3.7/dist-packages/autokeras/utils/utils.py\u001b[0m in \u001b[0;36mfit_with_adaptive_batch_size\u001b[0;34m(model, batch_size, **fit_kwargs)\u001b[0m\n\u001b[1;32m     88\u001b[0m \u001b[0;32mdef\u001b[0m \u001b[0mfit_with_adaptive_batch_size\u001b[0m\u001b[0;34m(\u001b[0m\u001b[0mmodel\u001b[0m\u001b[0;34m,\u001b[0m \u001b[0mbatch_size\u001b[0m\u001b[0;34m,\u001b[0m \u001b[0;34m**\u001b[0m\u001b[0mfit_kwargs\u001b[0m\u001b[0;34m)\u001b[0m\u001b[0;34m:\u001b[0m\u001b[0;34m\u001b[0m\u001b[0;34m\u001b[0m\u001b[0m\n\u001b[1;32m     89\u001b[0m     history = run_with_adaptive_batch_size(\n\u001b[0;32m---> 90\u001b[0;31m         \u001b[0mbatch_size\u001b[0m\u001b[0;34m,\u001b[0m \u001b[0;32mlambda\u001b[0m \u001b[0;34m**\u001b[0m\u001b[0mkwargs\u001b[0m\u001b[0;34m:\u001b[0m \u001b[0mmodel\u001b[0m\u001b[0;34m.\u001b[0m\u001b[0mfit\u001b[0m\u001b[0;34m(\u001b[0m\u001b[0;34m**\u001b[0m\u001b[0mkwargs\u001b[0m\u001b[0;34m)\u001b[0m\u001b[0;34m,\u001b[0m \u001b[0;34m**\u001b[0m\u001b[0mfit_kwargs\u001b[0m\u001b[0;34m\u001b[0m\u001b[0;34m\u001b[0m\u001b[0m\n\u001b[0m\u001b[1;32m     91\u001b[0m     )\n\u001b[1;32m     92\u001b[0m     \u001b[0;32mreturn\u001b[0m \u001b[0mmodel\u001b[0m\u001b[0;34m,\u001b[0m \u001b[0mhistory\u001b[0m\u001b[0;34m\u001b[0m\u001b[0;34m\u001b[0m\u001b[0m\n",
            "\u001b[0;32m/usr/local/lib/python3.7/dist-packages/autokeras/utils/utils.py\u001b[0m in \u001b[0;36mrun_with_adaptive_batch_size\u001b[0;34m(batch_size, func, **fit_kwargs)\u001b[0m\n\u001b[1;32m    100\u001b[0m     \u001b[0;32mwhile\u001b[0m \u001b[0mbatch_size\u001b[0m \u001b[0;34m>\u001b[0m \u001b[0;36m0\u001b[0m\u001b[0;34m:\u001b[0m\u001b[0;34m\u001b[0m\u001b[0;34m\u001b[0m\u001b[0m\n\u001b[1;32m    101\u001b[0m         \u001b[0;32mtry\u001b[0m\u001b[0;34m:\u001b[0m\u001b[0;34m\u001b[0m\u001b[0;34m\u001b[0m\u001b[0m\n\u001b[0;32m--> 102\u001b[0;31m             \u001b[0mhistory\u001b[0m \u001b[0;34m=\u001b[0m \u001b[0mfunc\u001b[0m\u001b[0;34m(\u001b[0m\u001b[0mx\u001b[0m\u001b[0;34m=\u001b[0m\u001b[0mx\u001b[0m\u001b[0;34m,\u001b[0m \u001b[0mvalidation_data\u001b[0m\u001b[0;34m=\u001b[0m\u001b[0mvalidation_data\u001b[0m\u001b[0;34m,\u001b[0m \u001b[0;34m**\u001b[0m\u001b[0mfit_kwargs\u001b[0m\u001b[0;34m)\u001b[0m\u001b[0;34m\u001b[0m\u001b[0;34m\u001b[0m\u001b[0m\n\u001b[0m\u001b[1;32m    103\u001b[0m             \u001b[0;32mbreak\u001b[0m\u001b[0;34m\u001b[0m\u001b[0;34m\u001b[0m\u001b[0m\n\u001b[1;32m    104\u001b[0m         \u001b[0;32mexcept\u001b[0m \u001b[0mtf\u001b[0m\u001b[0;34m.\u001b[0m\u001b[0merrors\u001b[0m\u001b[0;34m.\u001b[0m\u001b[0mResourceExhaustedError\u001b[0m \u001b[0;32mas\u001b[0m \u001b[0me\u001b[0m\u001b[0;34m:\u001b[0m\u001b[0;34m\u001b[0m\u001b[0;34m\u001b[0m\u001b[0m\n",
            "\u001b[0;32m/usr/local/lib/python3.7/dist-packages/autokeras/utils/utils.py\u001b[0m in \u001b[0;36m<lambda>\u001b[0;34m(**kwargs)\u001b[0m\n\u001b[1;32m     88\u001b[0m \u001b[0;32mdef\u001b[0m \u001b[0mfit_with_adaptive_batch_size\u001b[0m\u001b[0;34m(\u001b[0m\u001b[0mmodel\u001b[0m\u001b[0;34m,\u001b[0m \u001b[0mbatch_size\u001b[0m\u001b[0;34m,\u001b[0m \u001b[0;34m**\u001b[0m\u001b[0mfit_kwargs\u001b[0m\u001b[0;34m)\u001b[0m\u001b[0;34m:\u001b[0m\u001b[0;34m\u001b[0m\u001b[0;34m\u001b[0m\u001b[0m\n\u001b[1;32m     89\u001b[0m     history = run_with_adaptive_batch_size(\n\u001b[0;32m---> 90\u001b[0;31m         \u001b[0mbatch_size\u001b[0m\u001b[0;34m,\u001b[0m \u001b[0;32mlambda\u001b[0m \u001b[0;34m**\u001b[0m\u001b[0mkwargs\u001b[0m\u001b[0;34m:\u001b[0m \u001b[0mmodel\u001b[0m\u001b[0;34m.\u001b[0m\u001b[0mfit\u001b[0m\u001b[0;34m(\u001b[0m\u001b[0;34m**\u001b[0m\u001b[0mkwargs\u001b[0m\u001b[0;34m)\u001b[0m\u001b[0;34m,\u001b[0m \u001b[0;34m**\u001b[0m\u001b[0mfit_kwargs\u001b[0m\u001b[0;34m\u001b[0m\u001b[0;34m\u001b[0m\u001b[0m\n\u001b[0m\u001b[1;32m     91\u001b[0m     )\n\u001b[1;32m     92\u001b[0m     \u001b[0;32mreturn\u001b[0m \u001b[0mmodel\u001b[0m\u001b[0;34m,\u001b[0m \u001b[0mhistory\u001b[0m\u001b[0;34m\u001b[0m\u001b[0;34m\u001b[0m\u001b[0m\n",
            "\u001b[0;32m/usr/local/lib/python3.7/dist-packages/keras/utils/traceback_utils.py\u001b[0m in \u001b[0;36merror_handler\u001b[0;34m(*args, **kwargs)\u001b[0m\n\u001b[1;32m     62\u001b[0m     \u001b[0mfiltered_tb\u001b[0m \u001b[0;34m=\u001b[0m \u001b[0;32mNone\u001b[0m\u001b[0;34m\u001b[0m\u001b[0;34m\u001b[0m\u001b[0m\n\u001b[1;32m     63\u001b[0m     \u001b[0;32mtry\u001b[0m\u001b[0;34m:\u001b[0m\u001b[0;34m\u001b[0m\u001b[0;34m\u001b[0m\u001b[0m\n\u001b[0;32m---> 64\u001b[0;31m       \u001b[0;32mreturn\u001b[0m \u001b[0mfn\u001b[0m\u001b[0;34m(\u001b[0m\u001b[0;34m*\u001b[0m\u001b[0margs\u001b[0m\u001b[0;34m,\u001b[0m \u001b[0;34m**\u001b[0m\u001b[0mkwargs\u001b[0m\u001b[0;34m)\u001b[0m\u001b[0;34m\u001b[0m\u001b[0;34m\u001b[0m\u001b[0m\n\u001b[0m\u001b[1;32m     65\u001b[0m     \u001b[0;32mexcept\u001b[0m \u001b[0mException\u001b[0m \u001b[0;32mas\u001b[0m \u001b[0me\u001b[0m\u001b[0;34m:\u001b[0m  \u001b[0;31m# pylint: disable=broad-except\u001b[0m\u001b[0;34m\u001b[0m\u001b[0;34m\u001b[0m\u001b[0m\n\u001b[1;32m     66\u001b[0m       \u001b[0mfiltered_tb\u001b[0m \u001b[0;34m=\u001b[0m \u001b[0m_process_traceback_frames\u001b[0m\u001b[0;34m(\u001b[0m\u001b[0me\u001b[0m\u001b[0;34m.\u001b[0m\u001b[0m__traceback__\u001b[0m\u001b[0;34m)\u001b[0m\u001b[0;34m\u001b[0m\u001b[0;34m\u001b[0m\u001b[0m\n",
            "\u001b[0;32m/usr/local/lib/python3.7/dist-packages/keras/engine/training.py\u001b[0m in \u001b[0;36mfit\u001b[0;34m(self, x, y, batch_size, epochs, verbose, callbacks, validation_split, validation_data, shuffle, class_weight, sample_weight, initial_epoch, steps_per_epoch, validation_steps, validation_batch_size, validation_freq, max_queue_size, workers, use_multiprocessing)\u001b[0m\n\u001b[1;32m   1382\u001b[0m                 _r=1):\n\u001b[1;32m   1383\u001b[0m               \u001b[0mcallbacks\u001b[0m\u001b[0;34m.\u001b[0m\u001b[0mon_train_batch_begin\u001b[0m\u001b[0;34m(\u001b[0m\u001b[0mstep\u001b[0m\u001b[0;34m)\u001b[0m\u001b[0;34m\u001b[0m\u001b[0;34m\u001b[0m\u001b[0m\n\u001b[0;32m-> 1384\u001b[0;31m               \u001b[0mtmp_logs\u001b[0m \u001b[0;34m=\u001b[0m \u001b[0mself\u001b[0m\u001b[0;34m.\u001b[0m\u001b[0mtrain_function\u001b[0m\u001b[0;34m(\u001b[0m\u001b[0miterator\u001b[0m\u001b[0;34m)\u001b[0m\u001b[0;34m\u001b[0m\u001b[0;34m\u001b[0m\u001b[0m\n\u001b[0m\u001b[1;32m   1385\u001b[0m               \u001b[0;32mif\u001b[0m \u001b[0mdata_handler\u001b[0m\u001b[0;34m.\u001b[0m\u001b[0mshould_sync\u001b[0m\u001b[0;34m:\u001b[0m\u001b[0;34m\u001b[0m\u001b[0;34m\u001b[0m\u001b[0m\n\u001b[1;32m   1386\u001b[0m                 \u001b[0mcontext\u001b[0m\u001b[0;34m.\u001b[0m\u001b[0masync_wait\u001b[0m\u001b[0;34m(\u001b[0m\u001b[0;34m)\u001b[0m\u001b[0;34m\u001b[0m\u001b[0;34m\u001b[0m\u001b[0m\n",
            "\u001b[0;32m/usr/local/lib/python3.7/dist-packages/tensorflow/python/util/traceback_utils.py\u001b[0m in \u001b[0;36merror_handler\u001b[0;34m(*args, **kwargs)\u001b[0m\n\u001b[1;32m    148\u001b[0m     \u001b[0mfiltered_tb\u001b[0m \u001b[0;34m=\u001b[0m \u001b[0;32mNone\u001b[0m\u001b[0;34m\u001b[0m\u001b[0;34m\u001b[0m\u001b[0m\n\u001b[1;32m    149\u001b[0m     \u001b[0;32mtry\u001b[0m\u001b[0;34m:\u001b[0m\u001b[0;34m\u001b[0m\u001b[0;34m\u001b[0m\u001b[0m\n\u001b[0;32m--> 150\u001b[0;31m       \u001b[0;32mreturn\u001b[0m \u001b[0mfn\u001b[0m\u001b[0;34m(\u001b[0m\u001b[0;34m*\u001b[0m\u001b[0margs\u001b[0m\u001b[0;34m,\u001b[0m \u001b[0;34m**\u001b[0m\u001b[0mkwargs\u001b[0m\u001b[0;34m)\u001b[0m\u001b[0;34m\u001b[0m\u001b[0;34m\u001b[0m\u001b[0m\n\u001b[0m\u001b[1;32m    151\u001b[0m     \u001b[0;32mexcept\u001b[0m \u001b[0mException\u001b[0m \u001b[0;32mas\u001b[0m \u001b[0me\u001b[0m\u001b[0;34m:\u001b[0m\u001b[0;34m\u001b[0m\u001b[0;34m\u001b[0m\u001b[0m\n\u001b[1;32m    152\u001b[0m       \u001b[0mfiltered_tb\u001b[0m \u001b[0;34m=\u001b[0m \u001b[0m_process_traceback_frames\u001b[0m\u001b[0;34m(\u001b[0m\u001b[0me\u001b[0m\u001b[0;34m.\u001b[0m\u001b[0m__traceback__\u001b[0m\u001b[0;34m)\u001b[0m\u001b[0;34m\u001b[0m\u001b[0;34m\u001b[0m\u001b[0m\n",
            "\u001b[0;32m/usr/local/lib/python3.7/dist-packages/tensorflow/python/eager/def_function.py\u001b[0m in \u001b[0;36m__call__\u001b[0;34m(self, *args, **kwds)\u001b[0m\n\u001b[1;32m    913\u001b[0m \u001b[0;34m\u001b[0m\u001b[0m\n\u001b[1;32m    914\u001b[0m       \u001b[0;32mwith\u001b[0m \u001b[0mOptionalXlaContext\u001b[0m\u001b[0;34m(\u001b[0m\u001b[0mself\u001b[0m\u001b[0;34m.\u001b[0m\u001b[0m_jit_compile\u001b[0m\u001b[0;34m)\u001b[0m\u001b[0;34m:\u001b[0m\u001b[0;34m\u001b[0m\u001b[0;34m\u001b[0m\u001b[0m\n\u001b[0;32m--> 915\u001b[0;31m         \u001b[0mresult\u001b[0m \u001b[0;34m=\u001b[0m \u001b[0mself\u001b[0m\u001b[0;34m.\u001b[0m\u001b[0m_call\u001b[0m\u001b[0;34m(\u001b[0m\u001b[0;34m*\u001b[0m\u001b[0margs\u001b[0m\u001b[0;34m,\u001b[0m \u001b[0;34m**\u001b[0m\u001b[0mkwds\u001b[0m\u001b[0;34m)\u001b[0m\u001b[0;34m\u001b[0m\u001b[0;34m\u001b[0m\u001b[0m\n\u001b[0m\u001b[1;32m    916\u001b[0m \u001b[0;34m\u001b[0m\u001b[0m\n\u001b[1;32m    917\u001b[0m       \u001b[0mnew_tracing_count\u001b[0m \u001b[0;34m=\u001b[0m \u001b[0mself\u001b[0m\u001b[0;34m.\u001b[0m\u001b[0mexperimental_get_tracing_count\u001b[0m\u001b[0;34m(\u001b[0m\u001b[0;34m)\u001b[0m\u001b[0;34m\u001b[0m\u001b[0;34m\u001b[0m\u001b[0m\n",
            "\u001b[0;32m/usr/local/lib/python3.7/dist-packages/tensorflow/python/eager/def_function.py\u001b[0m in \u001b[0;36m_call\u001b[0;34m(self, *args, **kwds)\u001b[0m\n\u001b[1;32m    945\u001b[0m       \u001b[0;31m# In this case we have created variables on the first call, so we run the\u001b[0m\u001b[0;34m\u001b[0m\u001b[0;34m\u001b[0m\u001b[0;34m\u001b[0m\u001b[0m\n\u001b[1;32m    946\u001b[0m       \u001b[0;31m# defunned version which is guaranteed to never create variables.\u001b[0m\u001b[0;34m\u001b[0m\u001b[0;34m\u001b[0m\u001b[0;34m\u001b[0m\u001b[0m\n\u001b[0;32m--> 947\u001b[0;31m       \u001b[0;32mreturn\u001b[0m \u001b[0mself\u001b[0m\u001b[0;34m.\u001b[0m\u001b[0m_stateless_fn\u001b[0m\u001b[0;34m(\u001b[0m\u001b[0;34m*\u001b[0m\u001b[0margs\u001b[0m\u001b[0;34m,\u001b[0m \u001b[0;34m**\u001b[0m\u001b[0mkwds\u001b[0m\u001b[0;34m)\u001b[0m  \u001b[0;31m# pylint: disable=not-callable\u001b[0m\u001b[0;34m\u001b[0m\u001b[0;34m\u001b[0m\u001b[0m\n\u001b[0m\u001b[1;32m    948\u001b[0m     \u001b[0;32melif\u001b[0m \u001b[0mself\u001b[0m\u001b[0;34m.\u001b[0m\u001b[0m_stateful_fn\u001b[0m \u001b[0;32mis\u001b[0m \u001b[0;32mnot\u001b[0m \u001b[0;32mNone\u001b[0m\u001b[0;34m:\u001b[0m\u001b[0;34m\u001b[0m\u001b[0;34m\u001b[0m\u001b[0m\n\u001b[1;32m    949\u001b[0m       \u001b[0;31m# Release the lock early so that multiple threads can perform the call\u001b[0m\u001b[0;34m\u001b[0m\u001b[0;34m\u001b[0m\u001b[0;34m\u001b[0m\u001b[0m\n",
            "\u001b[0;32m/usr/local/lib/python3.7/dist-packages/tensorflow/python/eager/function.py\u001b[0m in \u001b[0;36m__call__\u001b[0;34m(self, *args, **kwargs)\u001b[0m\n\u001b[1;32m   2955\u001b[0m        filtered_flat_args) = self._maybe_define_function(args, kwargs)\n\u001b[1;32m   2956\u001b[0m     return graph_function._call_flat(\n\u001b[0;32m-> 2957\u001b[0;31m         filtered_flat_args, captured_inputs=graph_function.captured_inputs)  # pylint: disable=protected-access\n\u001b[0m\u001b[1;32m   2958\u001b[0m \u001b[0;34m\u001b[0m\u001b[0m\n\u001b[1;32m   2959\u001b[0m   \u001b[0;34m@\u001b[0m\u001b[0mproperty\u001b[0m\u001b[0;34m\u001b[0m\u001b[0;34m\u001b[0m\u001b[0m\n",
            "\u001b[0;32m/usr/local/lib/python3.7/dist-packages/tensorflow/python/eager/function.py\u001b[0m in \u001b[0;36m_call_flat\u001b[0;34m(self, args, captured_inputs, cancellation_manager)\u001b[0m\n\u001b[1;32m   1852\u001b[0m       \u001b[0;31m# No tape is watching; skip to running the function.\u001b[0m\u001b[0;34m\u001b[0m\u001b[0;34m\u001b[0m\u001b[0;34m\u001b[0m\u001b[0m\n\u001b[1;32m   1853\u001b[0m       return self._build_call_outputs(self._inference_function.call(\n\u001b[0;32m-> 1854\u001b[0;31m           ctx, args, cancellation_manager=cancellation_manager))\n\u001b[0m\u001b[1;32m   1855\u001b[0m     forward_backward = self._select_forward_and_backward_functions(\n\u001b[1;32m   1856\u001b[0m         \u001b[0margs\u001b[0m\u001b[0;34m,\u001b[0m\u001b[0;34m\u001b[0m\u001b[0;34m\u001b[0m\u001b[0m\n",
            "\u001b[0;32m/usr/local/lib/python3.7/dist-packages/tensorflow/python/eager/function.py\u001b[0m in \u001b[0;36mcall\u001b[0;34m(self, ctx, args, cancellation_manager)\u001b[0m\n\u001b[1;32m    502\u001b[0m               \u001b[0minputs\u001b[0m\u001b[0;34m=\u001b[0m\u001b[0margs\u001b[0m\u001b[0;34m,\u001b[0m\u001b[0;34m\u001b[0m\u001b[0;34m\u001b[0m\u001b[0m\n\u001b[1;32m    503\u001b[0m               \u001b[0mattrs\u001b[0m\u001b[0;34m=\u001b[0m\u001b[0mattrs\u001b[0m\u001b[0;34m,\u001b[0m\u001b[0;34m\u001b[0m\u001b[0;34m\u001b[0m\u001b[0m\n\u001b[0;32m--> 504\u001b[0;31m               ctx=ctx)\n\u001b[0m\u001b[1;32m    505\u001b[0m         \u001b[0;32melse\u001b[0m\u001b[0;34m:\u001b[0m\u001b[0;34m\u001b[0m\u001b[0;34m\u001b[0m\u001b[0m\n\u001b[1;32m    506\u001b[0m           outputs = execute.execute_with_cancellation(\n",
            "\u001b[0;32m/usr/local/lib/python3.7/dist-packages/tensorflow/python/eager/execute.py\u001b[0m in \u001b[0;36mquick_execute\u001b[0;34m(op_name, num_outputs, inputs, attrs, ctx, name)\u001b[0m\n\u001b[1;32m     53\u001b[0m     \u001b[0mctx\u001b[0m\u001b[0;34m.\u001b[0m\u001b[0mensure_initialized\u001b[0m\u001b[0;34m(\u001b[0m\u001b[0;34m)\u001b[0m\u001b[0;34m\u001b[0m\u001b[0;34m\u001b[0m\u001b[0m\n\u001b[1;32m     54\u001b[0m     tensors = pywrap_tfe.TFE_Py_Execute(ctx._handle, device_name, op_name,\n\u001b[0;32m---> 55\u001b[0;31m                                         inputs, attrs, num_outputs)\n\u001b[0m\u001b[1;32m     56\u001b[0m   \u001b[0;32mexcept\u001b[0m \u001b[0mcore\u001b[0m\u001b[0;34m.\u001b[0m\u001b[0m_NotOkStatusException\u001b[0m \u001b[0;32mas\u001b[0m \u001b[0me\u001b[0m\u001b[0;34m:\u001b[0m\u001b[0;34m\u001b[0m\u001b[0;34m\u001b[0m\u001b[0m\n\u001b[1;32m     57\u001b[0m     \u001b[0;32mif\u001b[0m \u001b[0mname\u001b[0m \u001b[0;32mis\u001b[0m \u001b[0;32mnot\u001b[0m \u001b[0;32mNone\u001b[0m\u001b[0;34m:\u001b[0m\u001b[0;34m\u001b[0m\u001b[0;34m\u001b[0m\u001b[0m\n",
            "\u001b[0;31mKeyboardInterrupt\u001b[0m: "
          ]
        }
      ]
    },
    {
      "cell_type": "markdown",
      "source": [
        "# Evaluate"
      ],
      "metadata": {
        "id": "U_wVZMc9mXBf"
      }
    },
    {
      "cell_type": "code",
      "source": [
        "clf.evaluate(x_test, y_test)"
      ],
      "metadata": {
        "colab": {
          "base_uri": "https://localhost:8080/"
        },
        "id": "wpoIiajYmckW",
        "outputId": "468efa83-a6d7-4e71-cad7-da9534f011c4"
      },
      "execution_count": 21,
      "outputs": [
        {
          "output_type": "stream",
          "name": "stdout",
          "text": [
            "74/74 [==============================] - 1s 6ms/step - loss: 1.7837 - accuracy: 0.2641\n"
          ]
        },
        {
          "output_type": "execute_result",
          "data": {
            "text/plain": [
              "[1.783736228942871, 0.2641429305076599]"
            ]
          },
          "metadata": {},
          "execution_count": 21
        }
      ]
    },
    {
      "cell_type": "code",
      "source": [
        "predicted = clf.predict(x_test).flatten().astype('uint8')\n",
        "for i in range(10):\n",
        "  print('TEXT[')\n",
        "  # 去除文章頭尾空白,並取前400字\n",
        "  print(x_test[i].strip()[:400])\n",
        "  print(f'] PREDICTED: {labels[predicted[i]]}, REAL: {labels[y_test[i]]}')\n",
        "  print('')"
      ],
      "metadata": {
        "colab": {
          "base_uri": "https://localhost:8080/"
        },
        "id": "kuSGo11GmiRo",
        "outputId": "99f5422f-b5fd-4054-90a9-fcb9c45dfdce"
      },
      "execution_count": 16,
      "outputs": [
        {
          "output_type": "stream",
          "name": "stdout",
          "text": [
            "74/74 [==============================] - 0s 5ms/step\n",
            "TEXT[\n",
            ". . . David gives good explaination of the deductions from the isotropic,\n",
            "'edged' distribution, to whit, they are either part of the Universe or\n",
            "part of the Oort cloud.\n",
            "\n",
            "Why couldn't they be Earth centred, with the edge occuring at the edge\n",
            "of the gravisphere? I know there isn't any mechanism for them, but there\n",
            "isn't a mechanism for the others either.\n",
            "] PREDICTED: Medicine, REAL: Space\n",
            "\n",
            "TEXT[\n",
            "Article #61083 (61123 is last):\n",
            "From: scholten@epg.nist.gov (Robert Scholten)\n",
            "Subject: Re: How hot should the cpu be?\n",
            "Date: Wed Apr 21 19:01:49 1993\n",
            "\n",
            "The temp on my 486DX2/66 is over 96C (measured with a K-type thermocouple \n",
            "and Fluke 55 dig thermometer).  This is an \"idle\" temp - not doing lots of\n",
            "bus i/o, not doing floating point, not doing 32-bit protected mode etc.  This\n",
            "is in a Micron compute\n",
            "] PREDICTED: PC hardware, REAL: PC hardware\n",
            "\n",
            "TEXT[\n",
            "Hi all netters,\n",
            "\n",
            "  If I upgrade my XT with a 286+ motherboard, will I be able to use the old\n",
            "bits and pieces like HD, FD, graphics card and I/O card etc. Thanks for you\n",
            "info.\n",
            "\n",
            "P.S. I am sorry if my question is on some kind of FAQ.\n",
            "\n",
            "\t\t\t\t\t\tregards,\n",
            "] PREDICTED: Automobile, REAL: PC hardware\n",
            "\n",
            "TEXT[\n",
            "------------- cut here -----------------\n",
            " \n",
            "        ONCE A YEAR...FOR A LIFETIME VIDEO KIT.  This kit\n",
            "        includes a 25-minute VHS videotape that presents common\n",
            "        misconceptions about mammography.  It tells of the\n",
            "        benefits gains by the early detection of breast cancer.\n",
            "        Jane Pauley and Phylicia Rashad are the narrators.  Kit\n",
            "        includes a guide, poster, flyer, and pam\n",
            "] PREDICTED: PC hardware, REAL: Medicine\n",
            "\n",
            "TEXT[\n",
            "Last year my nine year old son fell in love with baseball and now\n",
            "likes to play and to follow the professionals.  I would like to buy\n",
            "him a board game so he can catch a glimpse of and practise a little of\n",
            "the managerial stragegy.  I am not looking for a computer game or any\n",
            "type of game where manual dexterity determines the winner.  I am after\n",
            "something that he and his friends can spread out over \n",
            "] PREDICTED: Medicine, REAL: Baseball\n",
            "\n",
            "TEXT[\n",
            "I recently installed dos 5.0 on a few machines, and the users \n",
            "claim that when they use the mouse often, the screen will blank, and\n",
            "the machine will lock up.\n",
            "\n",
            "There are no viruses, they are not running any TSR's.\n",
            "(the mouse is a logitec 2 button)\n",
            "\n",
            "Anybody got any ideas?\n",
            "\n",
            "thanks\n",
            "] PREDICTED: Automobile, REAL: PC hardware\n",
            "\n",
            "TEXT[\n",
            "Having in mind the size of the images, my opinion is to go with VLB.\n",
            "It has _much_ more bandwith that EISA, which in fact can be utilized\n",
            "by the craphics card. (I have not made measures, so someone else may\n",
            "share experience on that.)\n",
            "\n",
            "Also, the DX2/66 is faster in the operations, that run off internal\n",
            "cache, slightly slower off the external and about the same off memory.\n",
            "So my advice is the 66/VLB\n",
            "] PREDICTED: Medicine, REAL: PC hardware\n",
            "\n",
            "TEXT[\n",
            "Jonathan, interesting questions.  Some wonder whether or not the moon could\n",
            "have ever supported an atmosphere.  I'd be interested in knowing what\n",
            "our geology/environmental sciences friends think.\n",
            "\n",
            "As for human tolerances, the best example of human endurance in terms\n",
            "of altitude (i.e. low atmospheric pressure and lower oxygen partial pressure)\n",
            "is in my opinion to the scaling of Mt. Everest without \n",
            "] PREDICTED: Medicine, REAL: Space\n",
            "\n",
            "TEXT[\n",
            "1B Career:  DON MATTINGLY!!!!!!!!\n",
            "] PREDICTED: Baseball, REAL: Baseball\n",
            "\n",
            "TEXT[\n",
            "This must vary from state to state, because our old company Kemper wanted\n",
            "to drop me (keeping my wife) or tripple our premium because i had 1 ticket.\n",
            "Only 2 points for 10 mph over speed limit.  Well i called Geico, and they\n",
            "insured both my wife and i for less then we were previously paying\n",
            "Kemper.\n",
            "\n",
            "Generally i hate the whole insurance game. I realize that it is necessary\n",
            "but the way that a person \n",
            "] PREDICTED: PC hardware, REAL: Automobile\n",
            "\n"
          ]
        }
      ]
    },
    {
      "cell_type": "code",
      "source": [
        "labels = ('PC hardware', 'Automobile', 'Baseball', 'Medicine', 'Space', 'Politics')\n",
        "from sklearn.metrics import classification_report\n",
        "print(classification_report(y_test, predicted, target_names=labels))"
      ],
      "metadata": {
        "colab": {
          "base_uri": "https://localhost:8080/"
        },
        "id": "KU6J686mr9ls",
        "outputId": "64040563-a0f0-4d01-f320-d094dd05a592"
      },
      "execution_count": 22,
      "outputs": [
        {
          "output_type": "stream",
          "name": "stdout",
          "text": [
            "              precision    recall  f1-score   support\n",
            "\n",
            " PC hardware       0.53      0.35      0.42       392\n",
            "  Automobile       0.30      0.41      0.34       396\n",
            "    Baseball       0.24      0.22      0.23       397\n",
            "    Medicine       0.19      0.56      0.28       396\n",
            "       Space       0.50      0.02      0.03       394\n",
            "    Politics       1.00      0.01      0.02       376\n",
            "\n",
            "    accuracy                           0.26      2351\n",
            "   macro avg       0.46      0.26      0.22      2351\n",
            "weighted avg       0.45      0.26      0.22      2351\n",
            "\n"
          ]
        }
      ]
    },
    {
      "cell_type": "markdown",
      "source": [
        "# Visualization"
      ],
      "metadata": {
        "id": "Ra5JSVH1sfQ-"
      }
    },
    {
      "cell_type": "code",
      "source": [
        "model = clf.export_model()\n",
        "model.summary()"
      ],
      "metadata": {
        "colab": {
          "base_uri": "https://localhost:8080/"
        },
        "id": "2tbl36RNshdy",
        "outputId": "febbf785-07bd-4c57-c019-c3a2b7846d5a"
      },
      "execution_count": 23,
      "outputs": [
        {
          "output_type": "stream",
          "name": "stdout",
          "text": [
            "Model: \"model\"\n",
            "_________________________________________________________________\n",
            " Layer (type)                Output Shape              Param #   \n",
            "=================================================================\n",
            " input_1 (InputLayer)        [(None,)]                 0         \n",
            "                                                                 \n",
            " expand_last_dim (ExpandLast  (None, 1)                0         \n",
            " Dim)                                                            \n",
            "                                                                 \n",
            " text_vectorization (TextVec  (None, 64)               0         \n",
            " torization)                                                     \n",
            "                                                                 \n",
            " embedding (Embedding)       (None, 64, 128)           6400000   \n",
            "                                                                 \n",
            " dropout (Dropout)           (None, 64, 128)           0         \n",
            "                                                                 \n",
            " separable_conv1d (Separable  (None, 58, 32)           5024      \n",
            " Conv1D)                                                         \n",
            "                                                                 \n",
            " max_pooling1d (MaxPooling1D  (None, 9, 32)            0         \n",
            " )                                                               \n",
            "                                                                 \n",
            " dropout_1 (Dropout)         (None, 9, 32)             0         \n",
            "                                                                 \n",
            " global_max_pooling1d (Globa  (None, 32)               0         \n",
            " lMaxPooling1D)                                                  \n",
            "                                                                 \n",
            " dense (Dense)               (None, 6)                 198       \n",
            "                                                                 \n",
            " classification_head_1 (Soft  (None, 6)                0         \n",
            " max)                                                            \n",
            "                                                                 \n",
            "=================================================================\n",
            "Total params: 6,405,222\n",
            "Trainable params: 6,405,222\n",
            "Non-trainable params: 0\n",
            "_________________________________________________________________\n"
          ]
        }
      ]
    },
    {
      "cell_type": "code",
      "source": [
        "from tensorflow.keras.utils import plot_model\n",
        "plot_model(model)"
      ],
      "metadata": {
        "colab": {
          "base_uri": "https://localhost:8080/",
          "height": 1000
        },
        "id": "LDDZzwIDsn-f",
        "outputId": "3a97bc5c-8ef1-4a8c-9788-35c6f1c1c59d"
      },
      "execution_count": 24,
      "outputs": [
        {
          "output_type": "execute_result",
          "data": {
            "image/png": "[encoded data removed]",
            "text/plain": [
              "<IPython.core.display.Image object>"
            ]
          },
          "metadata": {},
          "execution_count": 24
        }
      ]
    }
  ]
}