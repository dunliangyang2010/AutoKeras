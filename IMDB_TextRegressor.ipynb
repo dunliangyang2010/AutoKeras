{
  "nbformat": 4,
  "nbformat_minor": 0,
  "metadata": {
    "colab": {
      "name": "IMDB - TextRegressor.ipynb",
      "provenance": [],
      "collapsed_sections": [],
      "mount_file_id": "1NoeXMdJRWVL9wvBwuKOXSjgARdpY9Lxm",
      "authorship_tag": "ABX9TyMO2hKjXdkHVk6HJsnXUXow",
      "include_colab_link": true
    },
    "kernelspec": {
      "name": "python3",
      "display_name": "Python 3"
    },
    "language_info": {
      "name": "python"
    }
  },
  "cells": [
    {
      "cell_type": "markdown",
      "metadata": {
        "id": "view-in-github",
        "colab_type": "text"
      },
      "source": [
        "<a href=\"https://colab.research.google.com/github/dunliangyang2010/AutoKeras/blob/main/IMDB_TextRegressor.ipynb\" target=\"_parent\"><img src=\"https://colab.research.google.com/assets/colab-badge.svg\" alt=\"Open In Colab\"/></a>"
      ]
    },
    {
      "cell_type": "code",
      "source": [
        "pip install autokeras"
      ],
      "metadata": {
        "id": "xKRN4RIDVVSd"
      },
      "execution_count": null,
      "outputs": []
    },
    {
      "cell_type": "code",
      "execution_count": 9,
      "metadata": {
        "id": "xzmYumA2VC7I"
      },
      "outputs": [],
      "source": [
        "import numpy as np\n",
        "import matplotlib.pyplot as plt\n",
        "import pandas as pd\n",
        "import tensorflow as tf\n",
        "import autokeras as ak"
      ]
    },
    {
      "cell_type": "code",
      "source": [
        "df = pd.read_csv('https://github.com/alankrantas/IMDB-movie-reviews-with-ratings_dataset/raw/main/imdb_sup.csv')\n",
        "df"
      ],
      "metadata": {
        "colab": {
          "base_uri": "https://localhost:8080/",
          "height": 423
        },
        "id": "ymEieTjcVa80",
        "outputId": "0c26bea8-564d-4063-98ba-e691fa5d9709"
      },
      "execution_count": 10,
      "outputs": [
        {
          "output_type": "execute_result",
          "data": {
            "text/html": [
              "\n",
              "  <div id=\"df-32fb810e-d424-42bf-a750-a4c5eeabb014\">\n",
              "    <div class=\"colab-df-container\">\n",
              "      <div>\n",
              "<style scoped>\n",
              "    .dataframe tbody tr th:only-of-type {\n",
              "        vertical-align: middle;\n",
              "    }\n",
              "\n",
              "    .dataframe tbody tr th {\n",
              "        vertical-align: top;\n",
              "    }\n",
              "\n",
              "    .dataframe thead th {\n",
              "        text-align: right;\n",
              "    }\n",
              "</style>\n",
              "<table border=\"1\" class=\"dataframe\">\n",
              "  <thead>\n",
              "    <tr style=\"text-align: right;\">\n",
              "      <th></th>\n",
              "      <th>Review</th>\n",
              "      <th>Rating</th>\n",
              "      <th>Sentiment</th>\n",
              "    </tr>\n",
              "  </thead>\n",
              "  <tbody>\n",
              "    <tr>\n",
              "      <th>0</th>\n",
              "      <td>Kurt Russell's chameleon-like performance, cou...</td>\n",
              "      <td>10</td>\n",
              "      <td>1</td>\n",
              "    </tr>\n",
              "    <tr>\n",
              "      <th>1</th>\n",
              "      <td>It was extremely low budget(it some scenes it ...</td>\n",
              "      <td>8</td>\n",
              "      <td>1</td>\n",
              "    </tr>\n",
              "    <tr>\n",
              "      <th>2</th>\n",
              "      <td>James Cagney is best known for his tough chara...</td>\n",
              "      <td>8</td>\n",
              "      <td>1</td>\n",
              "    </tr>\n",
              "    <tr>\n",
              "      <th>3</th>\n",
              "      <td>Following the brilliant \"Goyôkiba\" (aka. \"Hanz...</td>\n",
              "      <td>8</td>\n",
              "      <td>1</td>\n",
              "    </tr>\n",
              "    <tr>\n",
              "      <th>4</th>\n",
              "      <td>One of the last classics of the French New Wav...</td>\n",
              "      <td>10</td>\n",
              "      <td>1</td>\n",
              "    </tr>\n",
              "    <tr>\n",
              "      <th>...</th>\n",
              "      <td>...</td>\n",
              "      <td>...</td>\n",
              "      <td>...</td>\n",
              "    </tr>\n",
              "    <tr>\n",
              "      <th>49995</th>\n",
              "      <td>(spoiler) it could be the one the worst movie ...</td>\n",
              "      <td>4</td>\n",
              "      <td>0</td>\n",
              "    </tr>\n",
              "    <tr>\n",
              "      <th>49996</th>\n",
              "      <td>So, you've seen the Romero movies, yes? And yo...</td>\n",
              "      <td>1</td>\n",
              "      <td>0</td>\n",
              "    </tr>\n",
              "    <tr>\n",
              "      <th>49997</th>\n",
              "      <td>Just listen to the Broadway cast album and to ...</td>\n",
              "      <td>3</td>\n",
              "      <td>0</td>\n",
              "    </tr>\n",
              "    <tr>\n",
              "      <th>49998</th>\n",
              "      <td>I have been a fan of the Carpenters for a long...</td>\n",
              "      <td>3</td>\n",
              "      <td>0</td>\n",
              "    </tr>\n",
              "    <tr>\n",
              "      <th>49999</th>\n",
              "      <td>Set in 1945, Skenbart follows a failed Swedish...</td>\n",
              "      <td>1</td>\n",
              "      <td>0</td>\n",
              "    </tr>\n",
              "  </tbody>\n",
              "</table>\n",
              "<p>50000 rows × 3 columns</p>\n",
              "</div>\n",
              "      <button class=\"colab-df-convert\" onclick=\"convertToInteractive('df-32fb810e-d424-42bf-a750-a4c5eeabb014')\"\n",
              "              title=\"Convert this dataframe to an interactive table.\"\n",
              "              style=\"display:none;\">\n",
              "        \n",
              "  <svg xmlns=\"http://www.w3.org/2000/svg\" height=\"24px\"viewBox=\"0 0 24 24\"\n",
              "       width=\"24px\">\n",
              "    <path d=\"M0 0h24v24H0V0z\" fill=\"none\"/>\n",
              "    <path d=\"M18.56 5.44l.94 2.06.94-2.06 2.06-.94-2.06-.94-.94-2.06-.94 2.06-2.06.94zm-11 1L8.5 8.5l.94-2.06 2.06-.94-2.06-.94L8.5 2.5l-.94 2.06-2.06.94zm10 10l.94 2.06.94-2.06 2.06-.94-2.06-.94-.94-2.06-.94 2.06-2.06.94z\"/><path d=\"M17.41 7.96l-1.37-1.37c-.4-.4-.92-.59-1.43-.59-.52 0-1.04.2-1.43.59L10.3 9.45l-7.72 7.72c-.78.78-.78 2.05 0 2.83L4 21.41c.39.39.9.59 1.41.59.51 0 1.02-.2 1.41-.59l7.78-7.78 2.81-2.81c.8-.78.8-2.07 0-2.86zM5.41 20L4 18.59l7.72-7.72 1.47 1.35L5.41 20z\"/>\n",
              "  </svg>\n",
              "      </button>\n",
              "      \n",
              "  <style>\n",
              "    .colab-df-container {\n",
              "      display:flex;\n",
              "      flex-wrap:wrap;\n",
              "      gap: 12px;\n",
              "    }\n",
              "\n",
              "    .colab-df-convert {\n",
              "      background-color: #E8F0FE;\n",
              "      border: none;\n",
              "      border-radius: 50%;\n",
              "      cursor: pointer;\n",
              "      display: none;\n",
              "      fill: #1967D2;\n",
              "      height: 32px;\n",
              "      padding: 0 0 0 0;\n",
              "      width: 32px;\n",
              "    }\n",
              "\n",
              "    .colab-df-convert:hover {\n",
              "      background-color: #E2EBFA;\n",
              "      box-shadow: 0px 1px 2px rgba(60, 64, 67, 0.3), 0px 1px 3px 1px rgba(60, 64, 67, 0.15);\n",
              "      fill: #174EA6;\n",
              "    }\n",
              "\n",
              "    [theme=dark] .colab-df-convert {\n",
              "      background-color: #3B4455;\n",
              "      fill: #D2E3FC;\n",
              "    }\n",
              "\n",
              "    [theme=dark] .colab-df-convert:hover {\n",
              "      background-color: #434B5C;\n",
              "      box-shadow: 0px 1px 3px 1px rgba(0, 0, 0, 0.15);\n",
              "      filter: drop-shadow(0px 1px 2px rgba(0, 0, 0, 0.3));\n",
              "      fill: #FFFFFF;\n",
              "    }\n",
              "  </style>\n",
              "\n",
              "      <script>\n",
              "        const buttonEl =\n",
              "          document.querySelector('#df-32fb810e-d424-42bf-a750-a4c5eeabb014 button.colab-df-convert');\n",
              "        buttonEl.style.display =\n",
              "          google.colab.kernel.accessAllowed ? 'block' : 'none';\n",
              "\n",
              "        async function convertToInteractive(key) {\n",
              "          const element = document.querySelector('#df-32fb810e-d424-42bf-a750-a4c5eeabb014');\n",
              "          const dataTable =\n",
              "            await google.colab.kernel.invokeFunction('convertToInteractive',\n",
              "                                                     [key], {});\n",
              "          if (!dataTable) return;\n",
              "\n",
              "          const docLinkHtml = 'Like what you see? Visit the ' +\n",
              "            '<a target=\"_blank\" href=https://colab.research.google.com/notebooks/data_table.ipynb>data table notebook</a>'\n",
              "            + ' to learn more about interactive tables.';\n",
              "          element.innerHTML = '';\n",
              "          dataTable['output_type'] = 'display_data';\n",
              "          await google.colab.output.renderOutput(dataTable, element);\n",
              "          const docLink = document.createElement('div');\n",
              "          docLink.innerHTML = docLinkHtml;\n",
              "          element.appendChild(docLink);\n",
              "        }\n",
              "      </script>\n",
              "    </div>\n",
              "  </div>\n",
              "  "
            ],
            "text/plain": [
              "                                                  Review  Rating  Sentiment\n",
              "0      Kurt Russell's chameleon-like performance, cou...      10          1\n",
              "1      It was extremely low budget(it some scenes it ...       8          1\n",
              "2      James Cagney is best known for his tough chara...       8          1\n",
              "3      Following the brilliant \"Goyôkiba\" (aka. \"Hanz...       8          1\n",
              "4      One of the last classics of the French New Wav...      10          1\n",
              "...                                                  ...     ...        ...\n",
              "49995  (spoiler) it could be the one the worst movie ...       4          0\n",
              "49996  So, you've seen the Romero movies, yes? And yo...       1          0\n",
              "49997  Just listen to the Broadway cast album and to ...       3          0\n",
              "49998  I have been a fan of the Carpenters for a long...       3          0\n",
              "49999  Set in 1945, Skenbart follows a failed Swedish...       1          0\n",
              "\n",
              "[50000 rows x 3 columns]"
            ]
          },
          "metadata": {},
          "execution_count": 10
        }
      ]
    },
    {
      "cell_type": "markdown",
      "source": [
        "# Prepare dataset"
      ],
      "metadata": {
        "id": "hc4aVAfxaDhI"
      }
    },
    {
      "cell_type": "code",
      "source": [
        "x = df['Review'].to_numpy()\n",
        "y = df['Rating'].to_numpy()\n",
        "from sklearn.model_selection import train_test_split\n",
        "\n",
        "x_train, x_test, y_train, y_test = train_test_split(x, y, test_size=0.2, random_state=42)"
      ],
      "metadata": {
        "id": "eDoAU4PkaFqi"
      },
      "execution_count": 11,
      "outputs": []
    },
    {
      "cell_type": "code",
      "source": [
        "# 資料收集時,自動濾掉評分5.6的評論以更好分類成正負面\n",
        "fig = plt.figure()\n",
        "bin = np.arange(11)+1\n",
        "\n",
        "ax=fig.add_subplot(1,2,1)\n",
        "ax.set_xticks(bin)\n",
        "plt.hist(y_train, bins=bin-0.5, rwidth=0.9)\n",
        "ax.set_title('Train dataset histogram')\n",
        "\n",
        "ax = fig.add_subplot(1, 2, 2)\n",
        "ax.set_xticks(bin)\n",
        "plt.hist(y_test, bins=bin-0.5, rwidth=0.9)\n",
        "ax.set_title('Test dataset histogram')\n",
        "\n",
        "plt.tight_layout()\n",
        "plt.show()"
      ],
      "metadata": {
        "colab": {
          "base_uri": "https://localhost:8080/",
          "height": 297
        },
        "id": "NRDq-27haoQM",
        "outputId": "274f0656-f795-4500-daf9-ce705a67ca94"
      },
      "execution_count": 12,
      "outputs": [
        {
          "output_type": "display_data",
          "data": {
            "image/png": "[encoded data removed]",
            "text/plain": [
              "<Figure size 432x288 with 2 Axes>"
            ]
          },
          "metadata": {
            "needs_background": "light"
          }
        }
      ]
    },
    {
      "cell_type": "markdown",
      "source": [
        "# Model\n",
        "無法用GPU-->除非改Attention or Conv"
      ],
      "metadata": {
        "id": "LTQZg_LkeE4b"
      }
    },
    {
      "cell_type": "code",
      "source": [
        "# General Search\n",
        "callbacks = [tf.keras.callbacks.EarlyStopping(patience=3)]\n",
        "reg = ak.TextRegressor(max_trials=10)\n",
        "reg.fit(x_train, y_train, callbacks=callbacks)"
      ],
      "metadata": {
        "id": "L9lQKwl-b93O"
      },
      "execution_count": null,
      "outputs": []
    },
    {
      "cell_type": "code",
      "source": [
        "# Advanced Search\n",
        "callbacks = [tf.keras.callbacks.EarlyStopping(patience=3)]\n",
        "\n",
        "# input node\n",
        "input_node = ak.TextInput()\n",
        "\n",
        "# output node \n",
        "# 使用N-gram類型區塊處理文本,最大token數設為30,000 \n",
        "output_node = ak.TextBlock(block_type = 'ngram', max_tokens=30000)(input_node)\n",
        "\n",
        "# regression node\n",
        "output_node = ak.RegressionHead()(output_node)\n",
        "reg = ak.AutoModel(inputs=input_node, outputs=output_node, max_trials=3)\n",
        "reg.fit(x_train, y_train, callbacks=callbacks)\n"
      ],
      "metadata": {
        "colab": {
          "base_uri": "https://localhost:8080/"
        },
        "id": "ztj828BReA-w",
        "outputId": "7eddac8f-2b24-408f-e4c0-12a5127e7e59"
      },
      "execution_count": 13,
      "outputs": [
        {
          "output_type": "stream",
          "name": "stdout",
          "text": [
            "Trial 4 Complete [00h 02m 14s]\n",
            "val_loss: 3.983071804046631\n",
            "\n",
            "Best val_loss So Far: 3.778907537460327\n",
            "Total elapsed time: 00h 08m 41s\n",
            "INFO:tensorflow:Oracle triggered exit\n",
            "1250/1250 [==============================] - 18s 14ms/step - loss: 7.9095 - mean_squared_error: 7.9095\n",
            "INFO:tensorflow:Assets written to: ./auto_model/best_model/assets\n"
          ]
        },
        {
          "output_type": "execute_result",
          "data": {
            "text/plain": [
              "<keras.callbacks.History at 0x7f3633548f90>"
            ]
          },
          "metadata": {},
          "execution_count": 13
        }
      ]
    },
    {
      "cell_type": "markdown",
      "source": [
        "# Evaluate"
      ],
      "metadata": {
        "id": "_hCqJIO-hUBQ"
      }
    },
    {
      "cell_type": "code",
      "source": [
        "reg.evaluate(x_test, y_test)"
      ],
      "metadata": {
        "colab": {
          "base_uri": "https://localhost:8080/"
        },
        "id": "FcABB1UHhYuS",
        "outputId": "d2ef4e3a-096d-4779-f440-16048e15d651"
      },
      "execution_count": 14,
      "outputs": [
        {
          "output_type": "stream",
          "name": "stdout",
          "text": [
            "313/313 [==============================] - 5s 16ms/step - loss: 4.5721 - mean_squared_error: 4.5721\n"
          ]
        },
        {
          "output_type": "execute_result",
          "data": {
            "text/plain": [
              "[4.572083473205566, 4.572083473205566]"
            ]
          },
          "metadata": {},
          "execution_count": 14
        }
      ]
    },
    {
      "cell_type": "code",
      "source": [
        "predicted = reg.predict(x_test[:10]).flatten()\n",
        "\n",
        "for i in range(10):\n",
        "  # 預覽每篇評論的內容(前100字)\n",
        "  print('Review:', x_test[i][:100], '...')\n",
        "  print('Predict:', predicted[i].round(3))\n",
        "  print('Real:', y_test[i])\n",
        "  print('')"
      ],
      "metadata": {
        "colab": {
          "base_uri": "https://localhost:8080/"
        },
        "id": "7wtxxznFhl5r",
        "outputId": "f62a26f0-73b2-4f43-8ac2-022800bf9b13"
      },
      "execution_count": 15,
      "outputs": [
        {
          "output_type": "stream",
          "name": "stdout",
          "text": [
            "1/1 [==============================] - 0s 14ms/step\n",
            "Review: Having read all of the comments on this film I am still amazed at Fox's reluctance to release a full ...\n",
            "Predict: 8.554\n",
            "Real: 9\n",
            "\n",
            "Review: I like this film a lot. It has a wonderful chemistry between the actors and tells a story that is pr ...\n",
            "Predict: 7.39\n",
            "Real: 8\n",
            "\n",
            "Review: I am a huge fan of Simon Pegg and have watched plenty of his movies until now and none of them have  ...\n",
            "Predict: 5.818\n",
            "Real: 7\n",
            "\n",
            "Review: This was what black society was like before the crack epidemics, gangsta rap, and AIDS that beset th ...\n",
            "Predict: 7.202\n",
            "Real: 10\n",
            "\n",
            "Review: pretty disappointing. i was expecting more of a horror/thriller -- but this seemed to be more of an  ...\n",
            "Predict: 5.635\n",
            "Real: 3\n",
            "\n",
            "Review: As a flagship show, Attack of the Show (AOTS) is endemic of the larger fall of G4 TV; it is a show ( ...\n",
            "Predict: 4.547\n",
            "Real: 2\n",
            "\n",
            "Review: Thomas Capano was not Anne Marie's boss Tom Carper, the Governor was. That is the reason the Feds be ...\n",
            "Predict: 4.678\n",
            "Real: 8\n",
            "\n",
            "Review: Two escaped convicts step out of the woods and shoot two campers in the head. That's the first scene ...\n",
            "Predict: 4.322\n",
            "Real: 3\n",
            "\n",
            "Review: I actually found this movie 'interesting'; finally one worth my time to watch and rent. It is true.. ...\n",
            "Predict: 6.589\n",
            "Real: 7\n",
            "\n",
            "Review: In my opinion this is the best Oliver Stone flick -- probably more because of Bogosian's influence t ...\n",
            "Predict: 6.006\n",
            "Real: 10\n",
            "\n"
          ]
        }
      ]
    },
    {
      "cell_type": "markdown",
      "source": [
        "# Model Visualization"
      ],
      "metadata": {
        "id": "7OmyyFzAiRdY"
      }
    },
    {
      "cell_type": "code",
      "source": [
        "model = reg.export_model()\n",
        "model.save('IMDB-TextRegressor_model')\n",
        "model.summary()"
      ],
      "metadata": {
        "colab": {
          "base_uri": "https://localhost:8080/"
        },
        "id": "owsLxiWsiWQm",
        "outputId": "8641fc6b-180a-4139-90c4-2dbd55cff5b5"
      },
      "execution_count": 16,
      "outputs": [
        {
          "output_type": "stream",
          "name": "stdout",
          "text": [
            "Model: \"model\"\n",
            "_________________________________________________________________\n",
            " Layer (type)                Output Shape              Param #   \n",
            "=================================================================\n",
            " input_1 (InputLayer)        [(None,)]                 0         \n",
            "                                                                 \n",
            " expand_last_dim (ExpandLast  (None, 1)                0         \n",
            " Dim)                                                            \n",
            "                                                                 \n",
            " text_vectorization (TextVec  (None, 30000)            1         \n",
            " torization)                                                     \n",
            "                                                                 \n",
            " dense (Dense)               (None, 32)                960032    \n",
            "                                                                 \n",
            " re_lu (ReLU)                (None, 32)                0         \n",
            "                                                                 \n",
            " dense_1 (Dense)             (None, 32)                1056      \n",
            "                                                                 \n",
            " re_lu_1 (ReLU)              (None, 32)                0         \n",
            "                                                                 \n",
            " regression_head_1 (Dense)   (None, 1)                 33        \n",
            "                                                                 \n",
            "=================================================================\n",
            "Total params: 961,122\n",
            "Trainable params: 961,121\n",
            "Non-trainable params: 1\n",
            "_________________________________________________________________\n"
          ]
        }
      ]
    },
    {
      "cell_type": "code",
      "source": [
        "from tensorflow.keras.utils import plot_model\n",
        "plot_model(model)"
      ],
      "metadata": {
        "colab": {
          "base_uri": "https://localhost:8080/",
          "height": 758
        },
        "id": "6NeqZ6ORifXp",
        "outputId": "67deeb0b-3ff8-448c-f299-17fb0a07c670"
      },
      "execution_count": 17,
      "outputs": [
        {
          "output_type": "execute_result",
          "data": {
            "image/png": "[encoded data removed]",
            "text/plain": [
              "<IPython.core.display.Image object>"
            ]
          },
          "metadata": {},
          "execution_count": 17
        }
      ]
    }
  ]
}