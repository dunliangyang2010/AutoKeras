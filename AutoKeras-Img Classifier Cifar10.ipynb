{
 "cells": [
  {
   "cell_type": "code",
   "execution_count": 1,
   "id": "3f179e80",
   "metadata": {},
   "outputs": [
    {
     "name": "stdout",
     "output_type": "stream",
     "text": [
      "Package                      Version\n",
      "---------------------------- -------------------\n",
      "absl-py                      1.0.0\n",
      "anyio                        3.5.0\n",
      "argon2-cffi                  21.3.0\n",
      "argon2-cffi-bindings         21.2.0\n",
      "asttokens                    2.0.5\n",
      "astunparse                   1.6.3\n",
      "attrs                        21.4.0\n",
      "autokeras                    1.0.17\n",
      "Babel                        2.9.1\n",
      "backcall                     0.2.0\n",
      "black                        22.1.0\n",
      "bleach                       4.1.0\n",
      "cachetools                   5.0.0\n",
      "certifi                      2021.10.8\n",
      "cffi                         1.15.0\n",
      "charset-normalizer           2.0.11\n",
      "click                        8.0.3\n",
      "colorama                     0.4.4\n",
      "cycler                       0.11.0\n",
      "debugpy                      1.5.1\n",
      "decorator                    5.1.1\n",
      "defusedxml                   0.7.1\n",
      "distlib                      0.3.4\n",
      "entrypoints                  0.4\n",
      "executing                    0.8.2\n",
      "filelock                     3.4.2\n",
      "flatbuffers                  2.0\n",
      "fonttools                    4.29.1\n",
      "gast                         0.5.3\n",
      "google-auth                  2.6.0\n",
      "google-auth-oauthlib         0.4.6\n",
      "google-pasta                 0.2.0\n",
      "grpcio                       1.43.0\n",
      "h5py                         3.6.0\n",
      "idna                         3.3\n",
      "importlib-metadata           4.11.0\n",
      "ipykernel                    6.9.0\n",
      "ipython                      8.0.1\n",
      "ipython-genutils             0.2.0\n",
      "jedi                         0.18.1\n",
      "Jinja2                       3.0.3\n",
      "json5                        0.9.6\n",
      "jsonschema                   4.4.0\n",
      "jupyter-client               7.1.2\n",
      "jupyter-core                 4.9.1\n",
      "jupyter-server               1.13.5\n",
      "jupyterlab                   3.2.9\n",
      "jupyterlab-pygments          0.1.2\n",
      "jupyterlab-server            2.10.3\n",
      "keras                        2.8.0\n",
      "Keras-Preprocessing          1.1.2\n",
      "keras-tuner                  1.1.0\n",
      "kiwisolver                   1.3.2\n",
      "kt-legacy                    1.0.4\n",
      "libclang                     13.0.0\n",
      "Markdown                     3.3.6\n",
      "MarkupSafe                   2.0.1\n",
      "matplotlib                   3.5.1\n",
      "matplotlib-inline            0.1.3\n",
      "mistune                      0.8.4\n",
      "mypy-extensions              0.4.3\n",
      "nbclassic                    0.3.5\n",
      "nbclient                     0.5.10\n",
      "nbconvert                    6.4.2\n",
      "nbformat                     5.1.3\n",
      "nest-asyncio                 1.5.4\n",
      "notebook                     6.4.8\n",
      "numpy                        1.22.2\n",
      "oauthlib                     3.2.0\n",
      "opt-einsum                   3.3.0\n",
      "packaging                    21.3\n",
      "pandas                       1.4.0\n",
      "pandocfilters                1.5.0\n",
      "parso                        0.8.3\n",
      "pathspec                     0.9.0\n",
      "pickleshare                  0.7.5\n",
      "Pillow                       9.0.1\n",
      "pip                          21.2.4\n",
      "platformdirs                 2.5.0\n",
      "prometheus-client            0.13.1\n",
      "prompt-toolkit               3.0.27\n",
      "protobuf                     3.19.4\n",
      "pure-eval                    0.2.2\n",
      "pyasn1                       0.4.8\n",
      "pyasn1-modules               0.2.8\n",
      "pycparser                    2.21\n",
      "Pygments                     2.11.2\n",
      "pyparsing                    3.0.7\n",
      "pyrsistent                   0.18.1\n",
      "python-dateutil              2.8.2\n",
      "pytz                         2021.3\n",
      "pywin32                      303\n",
      "pywinpty                     1.1.6\n",
      "pyzmq                        22.3.0\n",
      "requests                     2.27.1\n",
      "requests-oauthlib            1.3.1\n",
      "rsa                          4.8\n",
      "scipy                        1.8.0\n",
      "Send2Trash                   1.8.0\n",
      "setuptools                   58.1.0\n",
      "six                          1.16.0\n",
      "sniffio                      1.2.0\n",
      "stack-data                   0.1.4\n",
      "tensorboard                  2.8.0\n",
      "tensorboard-data-server      0.6.1\n",
      "tensorboard-plugin-wit       1.8.1\n",
      "tensorflow                   2.8.0\n",
      "tensorflow-io-gcs-filesystem 0.24.0\n",
      "termcolor                    1.1.0\n",
      "terminado                    0.13.1\n",
      "testpath                     0.5.0\n",
      "tf-estimator-nightly         2.8.0.dev2021122109\n",
      "tomli                        2.0.1\n",
      "tornado                      6.1\n",
      "traitlets                    5.1.1\n",
      "typing_extensions            4.0.1\n",
      "urllib3                      1.26.8\n",
      "virtualenv                   20.13.1\n",
      "wcwidth                      0.2.5\n",
      "webencodings                 0.5.1\n",
      "websocket-client             1.2.3\n",
      "Werkzeug                     2.0.3\n",
      "wheel                        0.37.1\n",
      "wrapt                        1.13.3\n",
      "zipp                         3.7.0\n"
     ]
    },
    {
     "name": "stderr",
     "output_type": "stream",
     "text": [
      "WARNING: You are using pip version 21.2.4; however, version 22.0.3 is available.\n",
      "You should consider upgrading via the 'C:\\Users\\dunliangyang\\AppData\\Local\\Programs\\Python\\Python39\\python.exe -m pip install --upgrade pip' command.\n"
     ]
    }
   ],
   "source": [
    "!pip list"
   ]
  },
  {
   "cell_type": "code",
   "execution_count": 6,
   "id": "bf08f18a",
   "metadata": {},
   "outputs": [
    {
     "name": "stdout",
     "output_type": "stream",
     "text": [
      "Fri Feb 11 11:56:08 2022       \n",
      "+-----------------------------------------------------------------------------+\n",
      "| NVIDIA-SMI 511.65       Driver Version: 511.65       CUDA Version: 11.6     |\n",
      "|-------------------------------+----------------------+----------------------+\n",
      "| GPU  Name            TCC/WDDM | Bus-Id        Disp.A | Volatile Uncorr. ECC |\n",
      "| Fan  Temp  Perf  Pwr:Usage/Cap|         Memory-Usage | GPU-Util  Compute M. |\n",
      "|                               |                      |               MIG M. |\n",
      "|===============================+======================+======================|\n",
      "|   0  NVIDIA GeForce ... WDDM  | 00000000:01:00.0 Off |                  N/A |\n",
      "| N/A    0C    P8     7W /  N/A |      0MiB /  6144MiB |      0%      Default |\n",
      "|                               |                      |                  N/A |\n",
      "+-------------------------------+----------------------+----------------------+\n",
      "                                                                               \n",
      "+-----------------------------------------------------------------------------+\n",
      "| Processes:                                                                  |\n",
      "|  GPU   GI   CI        PID   Type   Process name                  GPU Memory |\n",
      "|        ID   ID                                                   Usage      |\n",
      "|=============================================================================|\n",
      "|  No running processes found                                                 |\n",
      "+-----------------------------------------------------------------------------+\n"
     ]
    }
   ],
   "source": [
    "!nvidia-smi"
   ]
  },
  {
   "cell_type": "code",
   "execution_count": 1,
   "id": "d266f298",
   "metadata": {},
   "outputs": [],
   "source": [
    "import matplotlib.pyplot as plt\n",
    "import autokeras as ak\n",
    "import tensorflow as tf\n",
    "from tensorflow.keras.datasets import cifar10 "
   ]
  },
  {
   "cell_type": "code",
   "execution_count": 2,
   "id": "d8ccb8f9",
   "metadata": {},
   "outputs": [
    {
     "name": "stdout",
     "output_type": "stream",
     "text": [
      "WARNING:tensorflow:From C:\\Users\\dunliangyang\\AppData\\Local\\Temp\\ipykernel_12384\\3761625412.py:2: is_gpu_available (from tensorflow.python.framework.test_util) is deprecated and will be removed in a future version.\n",
      "Instructions for updating:\n",
      "Use `tf.config.list_physical_devices('GPU')` instead.\n"
     ]
    },
    {
     "data": {
      "text/plain": [
       "True"
      ]
     },
     "execution_count": 2,
     "metadata": {},
     "output_type": "execute_result"
    }
   ],
   "source": [
    "# check GPU is available\n",
    "tf.test.is_gpu_available()"
   ]
  },
  {
   "cell_type": "markdown",
   "id": "72ea1c16",
   "metadata": {},
   "source": [
    "#### Preparing the CIFAR-10 dataset"
   ]
  },
  {
   "cell_type": "code",
   "execution_count": 3,
   "id": "df3db66b",
   "metadata": {},
   "outputs": [
    {
     "name": "stdout",
     "output_type": "stream",
     "text": [
      "x_train:  (50000, 32, 32, 3)\n",
      "y_train:  (50000, 1)\n",
      "x_test:  (10000, 32, 32, 3)\n",
      "y_test:  (10000, 1)\n"
     ]
    }
   ],
   "source": [
    "(x_train, y_train), (x_test, y_test) = cifar10.load_data()\n",
    "print('x_train: ', x_train.shape) \n",
    "print('y_train: ', y_train.shape)\n",
    "print('x_test: ', x_test.shape) \n",
    "print('y_test: ', y_test.shape)"
   ]
  },
  {
   "cell_type": "code",
   "execution_count": 5,
   "id": "9c8cdb64",
   "metadata": {
    "collapsed": true
   },
   "outputs": [
    {
     "data": {
      "text/plain": [
       "(array([[[ 59,  62,  63],\n",
       "         [ 43,  46,  45],\n",
       "         [ 50,  48,  43],\n",
       "         ...,\n",
       "         [158, 132, 108],\n",
       "         [152, 125, 102],\n",
       "         [148, 124, 103]],\n",
       " \n",
       "        [[ 16,  20,  20],\n",
       "         [  0,   0,   0],\n",
       "         [ 18,   8,   0],\n",
       "         ...,\n",
       "         [123,  88,  55],\n",
       "         [119,  83,  50],\n",
       "         [122,  87,  57]],\n",
       " \n",
       "        [[ 25,  24,  21],\n",
       "         [ 16,   7,   0],\n",
       "         [ 49,  27,   8],\n",
       "         ...,\n",
       "         [118,  84,  50],\n",
       "         [120,  84,  50],\n",
       "         [109,  73,  42]],\n",
       " \n",
       "        ...,\n",
       " \n",
       "        [[208, 170,  96],\n",
       "         [201, 153,  34],\n",
       "         [198, 161,  26],\n",
       "         ...,\n",
       "         [160, 133,  70],\n",
       "         [ 56,  31,   7],\n",
       "         [ 53,  34,  20]],\n",
       " \n",
       "        [[180, 139,  96],\n",
       "         [173, 123,  42],\n",
       "         [186, 144,  30],\n",
       "         ...,\n",
       "         [184, 148,  94],\n",
       "         [ 97,  62,  34],\n",
       "         [ 83,  53,  34]],\n",
       " \n",
       "        [[177, 144, 116],\n",
       "         [168, 129,  94],\n",
       "         [179, 142,  87],\n",
       "         ...,\n",
       "         [216, 184, 140],\n",
       "         [151, 118,  84],\n",
       "         [123,  92,  72]]], dtype=uint8),\n",
       " array([6], dtype=uint8))"
      ]
     },
     "execution_count": 5,
     "metadata": {},
     "output_type": "execute_result"
    }
   ],
   "source": [
    "x_train[0] , y_train[0]"
   ]
  },
  {
   "cell_type": "code",
   "execution_count": 34,
   "id": "51545d1d",
   "metadata": {},
   "outputs": [
    {
     "data": {
      "image/png": "[encoded data removed]",
      "text/plain": [
       "<Figure size 432x288 with 1 Axes>"
      ]
     },
     "metadata": {
      "needs_background": "light"
     },
     "output_type": "display_data"
    },
    {
     "name": "stdout",
     "output_type": "stream",
     "text": [
      "18844 1\n"
     ]
    }
   ],
   "source": [
    "import random\n",
    "label = [\"airplane\", \"automobile\", \"bird\", \"cat\", \"deer\",\"dog\", \"frog\", \"horse\", \"ship\", \"truck\"]\n",
    "n = random.randint(0, x_train.shape[0]-1)\n",
    "\n",
    "plt.imshow(x_train[n])\n",
    "plt.title(f\"Ground True: %s\" % label[y_train[n][0]])\n",
    "plt.show()\n",
    "print(n, y_train[n][0])"
   ]
  },
  {
   "cell_type": "markdown",
   "id": "f436dcce",
   "metadata": {},
   "source": [
    "Check the distribution of image classes"
   ]
  },
  {
   "cell_type": "code",
   "execution_count": 4,
   "id": "7c696c33",
   "metadata": {},
   "outputs": [
    {
     "data": {
      "image/png": "[encoded data removed]",
      "text/plain": [
       "<Figure size 432x288 with 2 Axes>"
      ]
     },
     "metadata": {
      "needs_background": "light"
     },
     "output_type": "display_data"
    }
   ],
   "source": [
    "import numpy as np\n",
    "\n",
    "train_histogram = np.histogram(y_train)\n",
    "test_histogram = np.histogram(y_test)\n",
    "_, axs = plt.subplots(1, 2)\n",
    "axs[0].set_xticks(range(10))\n",
    "axs[0].bar(range(10), train_histogram[0])\n",
    "axs[0].set_title('Train dataset histogram')\n",
    "axs[1].set_xticks(range(10))\n",
    "axs[1].bar(range(10), test_histogram[0])\n",
    "axs[1].set_title('Test dataset histogram')\n",
    "plt.show()"
   ]
  },
  {
   "cell_type": "markdown",
   "id": "335ecd65",
   "metadata": {},
   "source": [
    "#### Model training ( Classification )\n",
    "max_trials=2, and don't set epochs so it will be adaptive"
   ]
  },
  {
   "cell_type": "code",
   "execution_count": 5,
   "id": "c65870f9",
   "metadata": {},
   "outputs": [
    {
     "name": "stdout",
     "output_type": "stream",
     "text": [
      "Trial 3 Complete [00h 04m 34s]\n",
      "val_loss: 1.560775637626648\n",
      "\n",
      "Best val_loss So Far: 0.8734359741210938\n",
      "Total elapsed time: 00h 05m 13s\n",
      "INFO:tensorflow:Oracle triggered exit\n",
      "Epoch 1/10\n",
      "391/391 [==============================] - 4s 8ms/step - loss: 1.6677 - accuracy: 0.3884\n",
      "Epoch 2/10\n",
      "391/391 [==============================] - 3s 8ms/step - loss: 1.3021 - accuracy: 0.5310\n",
      "Epoch 3/10\n",
      "391/391 [==============================] - 3s 8ms/step - loss: 1.1470 - accuracy: 0.5897\n",
      "Epoch 4/10\n",
      "391/391 [==============================] - 3s 8ms/step - loss: 1.0593 - accuracy: 0.6243\n",
      "Epoch 5/10\n",
      "391/391 [==============================] - 3s 8ms/step - loss: 0.9992 - accuracy: 0.6455\n",
      "Epoch 6/10\n",
      "391/391 [==============================] - 3s 8ms/step - loss: 0.9579 - accuracy: 0.6622\n",
      "Epoch 7/10\n",
      "391/391 [==============================] - 3s 8ms/step - loss: 0.9156 - accuracy: 0.6763\n",
      "Epoch 8/10\n",
      "391/391 [==============================] - 3s 8ms/step - loss: 0.8852 - accuracy: 0.6874\n",
      "Epoch 9/10\n",
      "391/391 [==============================] - 3s 8ms/step - loss: 0.8556 - accuracy: 0.6962\n",
      "Epoch 10/10\n",
      "391/391 [==============================] - 3s 8ms/step - loss: 0.8417 - accuracy: 0.7039\n",
      "INFO:tensorflow:Assets written to: .\\image_classifier\\best_model\\assets\n"
     ]
    },
    {
     "data": {
      "text/plain": [
       "<keras.callbacks.History at 0x1a6ccb096d0>"
      ]
     },
     "execution_count": 5,
     "metadata": {},
     "output_type": "execute_result"
    }
   ],
   "source": [
    "# callbacks\n",
    "checkpoint_path = './checkpoint'\n",
    "callbacks = [tf.keras.callbacks.ModelCheckpoint(filepath=checkpoint_path, save_weights_only=True)]\n",
    "\n",
    "# Initialize the ImageClassifier.\n",
    "clf = ak.ImageClassifier( max_trials=2 )\n",
    "# Search for the best model.\n",
    "clf.fit(x_train, y_train, batch_size=128, epochs=10, callbacks=callbacks)"
   ]
  },
  {
   "cell_type": "markdown",
   "id": "39d0d359",
   "metadata": {},
   "source": [
    "#### Evaluating the best model"
   ]
  },
  {
   "cell_type": "code",
   "execution_count": 6,
   "id": "2c79cf06",
   "metadata": {},
   "outputs": [
    {
     "name": "stdout",
     "output_type": "stream",
     "text": [
      "313/313 [==============================] - 1s 3ms/step - loss: 0.8032 - accuracy: 0.7171\n",
      "[0.8032066226005554, 0.7171000242233276]\n"
     ]
    }
   ],
   "source": [
    "metrics = clf.evaluate(x_test, y_test) \n",
    "print(metrics) "
   ]
  },
  {
   "cell_type": "code",
   "execution_count": 8,
   "id": "e496cf3c",
   "metadata": {},
   "outputs": [
    {
     "name": "stdout",
     "output_type": "stream",
     "text": [
      "1/1 [==============================] - 0s 25ms/step\n"
     ]
    },
    {
     "data": {
      "image/png": "[encoded data removed]",
      "text/plain": [
       "<Figure size 1296x432 with 10 Axes>"
      ]
     },
     "metadata": {
      "needs_background": "light"
     },
     "output_type": "display_data"
    }
   ],
   "source": [
    "predicted_y = clf.predict(x_test[:10]).argmax(axis=1)\n",
    "labelNames = [\"airplane\", \"automobile\", \"bird\", \"cat\", \"deer\",\n",
    "        \"dog\", \"frog\", \"horse\", \"ship\", \"truck\"]\n",
    "fig = plt.figure(figsize=[18,6])\n",
    "for i in range(len(predicted_y)):\n",
    "    ax = fig.add_subplot(2, 5, i+1)\n",
    "    ax.set_axis_off()\n",
    "    ax.set_title('Prediced: %s, Real: %s' % (labelNames[int(predicted_y[i])], labelNames[int(y_test[i])]))\n",
    "    img = x_test[i]\n",
    "    ax.imshow(img)\n",
    "plt.show()"
   ]
  },
  {
   "cell_type": "markdown",
   "id": "482907fe",
   "metadata": {},
   "source": [
    "#### Improving the model search\n",
    "If we need more precision in less time, we can fine-tune our model using an advanced Autokeras feature that allows you to customize your search space.\n",
    "\n",
    "Using AutoModel with ImageBlock instead of ImageClassifier, we can create high-level configurations, such as block_type for the type of neural network to look for, we can also perform data normalization or perform data augmentation.\n",
    "\n",
    "If we have knowledge of deep learning and have faced this problem before, we can design a suitable architecture as a EfficientNet-based image regressor, for instance, which is a deep residual learning architecture for image recognition. https://keras.io/api/applications/efficientnet/"
   ]
  },
  {
   "cell_type": "code",
   "execution_count": null,
   "id": "c2cc6d76",
   "metadata": {},
   "outputs": [],
   "source": [
    "# image input \n",
    "input_node = ak.ImageInput()\n",
    "\n",
    "# hidden layers\n",
    "output_node = ak.EfficientNetBlock(\n",
    "    # Only use EfficientNetb7 architecture.\n",
    "    version=\"b7\",\n",
    "    # Load pretrained ImageNet weights \n",
    "    pretrained=True)(input_node)\n",
    "\n",
    "# classification layer\n",
    "output_node = ak.ClassificationHead()(output_node)\n",
    "# Search for the best model with EarlyStopping.\n",
    "from tensorflow.keras import callbacks as tf_callbacks\n",
    "cbs = [\n",
    "    tf_callbacks.EarlyStopping(patience=2, verbose=1),\n",
    "]\n",
    "clf = ak.AutoModel(\n",
    "    inputs=input_node,\n",
    "    outputs=output_node,\n",
    "    overwrite=False,\n",
    "    max_trials=10,\n",
    "    objective='val_accuracy')\n",
    "clf.fit(x_train, y_train, callbacks = cbs, verbose=1, epochs=10)"
   ]
  },
  {
   "cell_type": "code",
   "execution_count": 7,
   "id": "859070eb",
   "metadata": {
    "collapsed": true
   },
   "outputs": [
    {
     "name": "stdout",
     "output_type": "stream",
     "text": [
      "(10000, 32, 32, 3)\n",
      "(10000, 1)\n",
      "313/313 [==============================] - 1s 3ms/step - loss: 0.8032 - accuracy: 0.7171\n"
     ]
    },
    {
     "data": {
      "text/plain": [
       "[0.8032066226005554, 0.7171000242233276]"
      ]
     },
     "execution_count": 7,
     "metadata": {},
     "output_type": "execute_result"
    }
   ],
   "source": [
    "# Evaluate the chosen model with testing data\n",
    "print(x_test.shape)\n",
    "print(y_test.shape)\n",
    "clf.evaluate(x_test, y_test)"
   ]
  },
  {
   "cell_type": "markdown",
   "id": "06cbdda5",
   "metadata": {},
   "source": [
    "#### Visualizing the model"
   ]
  },
  {
   "cell_type": "code",
   "execution_count": 14,
   "id": "c81a2307",
   "metadata": {
    "scrolled": true
   },
   "outputs": [
    {
     "name": "stdout",
     "output_type": "stream",
     "text": [
      "INFO:tensorflow:Assets written to: ./model\\assets\n"
     ]
    },
    {
     "ename": "AttributeError",
     "evalue": "'ImageClassifier' object has no attribute 'summary'",
     "output_type": "error",
     "traceback": [
      "\u001b[1;31m---------------------------------------------------------------------------\u001b[0m",
      "\u001b[1;31mAttributeError\u001b[0m                            Traceback (most recent call last)",
      "Input \u001b[1;32mIn [14]\u001b[0m, in \u001b[0;36m<module>\u001b[1;34m\u001b[0m\n\u001b[0;32m      3\u001b[0m model\u001b[38;5;241m.\u001b[39msave(\u001b[38;5;124m'\u001b[39m\u001b[38;5;124m./model\u001b[39m\u001b[38;5;124m'\u001b[39m)\n\u001b[0;32m      5\u001b[0m \u001b[38;5;66;03m# loading\u001b[39;00m\n\u001b[0;32m      6\u001b[0m \u001b[38;5;66;03m# exposureModel = load_model(exposureModelPath, custom_objects=ak. CUSTOM_OBJECTS)\u001b[39;00m\n\u001b[0;32m      7\u001b[0m \n\u001b[0;32m      8\u001b[0m \u001b[38;5;66;03m# Now, we ask for the model Sumary:\u001b[39;00m\n\u001b[1;32m----> 9\u001b[0m \u001b[43mclf\u001b[49m\u001b[38;5;241;43m.\u001b[39;49m\u001b[43msummary\u001b[49m()\n",
      "\u001b[1;31mAttributeError\u001b[0m: 'ImageClassifier' object has no attribute 'summary'"
     ]
    }
   ],
   "source": [
    "# First we export the model to a keras model\n",
    "model = clf.export_model()\n",
    "model.save('./model')\n",
    "\n",
    "# loading\n",
    "# exposureModel = load_model(exposureModelPath, custom_objects=ak. CUSTOM_OBJECTS)\n",
    "\n",
    "# Now, we ask for the model Sumary:\n",
    "clf.summary()"
   ]
  },
  {
   "cell_type": "code",
   "execution_count": 10,
   "id": "659c61e1",
   "metadata": {},
   "outputs": [
    {
     "name": "stdout",
     "output_type": "stream",
     "text": [
      "You must install pydot (`pip install pydot`) and install graphviz (see instructions at https://graphviz.gitlab.io/download/) for plot_model/model_to_dot to work.\n"
     ]
    }
   ],
   "source": [
    "from tensorflow.keras.utils import plot_model\n",
    "plot_model(clf.export_model())"
   ]
  },
  {
   "cell_type": "code",
   "execution_count": 11,
   "id": "d03ed9e6",
   "metadata": {},
   "outputs": [
    {
     "name": "stdout",
     "output_type": "stream",
     "text": [
      "Collecting pydot\n",
      "  Downloading pydot-1.4.2-py2.py3-none-any.whl (21 kB)\n",
      "Requirement already satisfied: pyparsing>=2.1.4 in c:\\users\\dunliangyang\\appdata\\local\\programs\\python\\python39\\lib\\site-packages (from pydot) (3.0.7)\n",
      "Installing collected packages: pydot\n",
      "Successfully installed pydot-1.4.2\n"
     ]
    }
   ],
   "source": [
    "!pip install pydot"
   ]
  },
  {
   "cell_type": "code",
   "execution_count": 12,
   "id": "e4b98bae",
   "metadata": {},
   "outputs": [
    {
     "name": "stdout",
     "output_type": "stream",
     "text": [
      "You must install pydot (`pip install pydot`) and install graphviz (see instructions at https://graphviz.gitlab.io/download/) for plot_model/model_to_dot to work.\n"
     ]
    }
   ],
   "source": []
  }
 ],
 "metadata": {
  "kernelspec": {
   "display_name": "Python 3 (ipykernel)",
   "language": "python",
   "name": "python3"
  },
  "language_info": {
   "codemirror_mode": {
    "name": "ipython",
    "version": 3
   },
   "file_extension": ".py",
   "mimetype": "text/x-python",
   "name": "python",
   "nbconvert_exporter": "python",
   "pygments_lexer": "ipython3",
   "version": "3.9.10"
  }
 },
 "nbformat": 4,
 "nbformat_minor": 5
}
