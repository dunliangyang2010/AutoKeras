{
  "cells": [
    {
      "cell_type": "markdown",
      "metadata": {
        "id": "view-in-github",
        "colab_type": "text"
      },
      "source": [
        "<a href=\"https://colab.research.google.com/github/dunliangyang2010/AutoKeras/blob/main/Multitask_IMDB_Sentiment_.ipynb\" target=\"_parent\"><img src=\"https://colab.research.google.com/assets/colab-badge.svg\" alt=\"Open In Colab\"/></a>"
      ]
    },
    {
      "cell_type": "code",
      "execution_count": null,
      "metadata": {
        "id": "d0uDbb6qskoB"
      },
      "outputs": [],
      "source": [
        "!pip3 install autokeras"
      ]
    },
    {
      "cell_type": "code",
      "execution_count": 6,
      "metadata": {
        "id": "ihrWDelQs1jn"
      },
      "outputs": [],
      "source": [
        "import numpy as np\n",
        "import matplotlib.pyplot as plt\n",
        "import pandas as pd\n",
        "import tensorflow as tf\n",
        "import autokeras as ak"
      ]
    },
    {
      "cell_type": "code",
      "execution_count": 7,
      "metadata": {
        "id": "RCxZOytIs4IW",
        "colab": {
          "base_uri": "https://localhost:8080/",
          "height": 423
        },
        "outputId": "a462b924-bd82-4aa2-f770-38a8efddec41"
      },
      "outputs": [
        {
          "output_type": "execute_result",
          "data": {
            "text/html": [
              "\n",
              "  <div id=\"df-679de9b2-1619-44c4-9e85-01a33c7518f9\">\n",
              "    <div class=\"colab-df-container\">\n",
              "      <div>\n",
              "<style scoped>\n",
              "    .dataframe tbody tr th:only-of-type {\n",
              "        vertical-align: middle;\n",
              "    }\n",
              "\n",
              "    .dataframe tbody tr th {\n",
              "        vertical-align: top;\n",
              "    }\n",
              "\n",
              "    .dataframe thead th {\n",
              "        text-align: right;\n",
              "    }\n",
              "</style>\n",
              "<table border=\"1\" class=\"dataframe\">\n",
              "  <thead>\n",
              "    <tr style=\"text-align: right;\">\n",
              "      <th></th>\n",
              "      <th>Review</th>\n",
              "      <th>Rating</th>\n",
              "      <th>Sentiment</th>\n",
              "    </tr>\n",
              "  </thead>\n",
              "  <tbody>\n",
              "    <tr>\n",
              "      <th>0</th>\n",
              "      <td>Kurt Russell's chameleon-like performance, cou...</td>\n",
              "      <td>10</td>\n",
              "      <td>1</td>\n",
              "    </tr>\n",
              "    <tr>\n",
              "      <th>1</th>\n",
              "      <td>It was extremely low budget(it some scenes it ...</td>\n",
              "      <td>8</td>\n",
              "      <td>1</td>\n",
              "    </tr>\n",
              "    <tr>\n",
              "      <th>2</th>\n",
              "      <td>James Cagney is best known for his tough chara...</td>\n",
              "      <td>8</td>\n",
              "      <td>1</td>\n",
              "    </tr>\n",
              "    <tr>\n",
              "      <th>3</th>\n",
              "      <td>Following the brilliant \"Goyôkiba\" (aka. \"Hanz...</td>\n",
              "      <td>8</td>\n",
              "      <td>1</td>\n",
              "    </tr>\n",
              "    <tr>\n",
              "      <th>4</th>\n",
              "      <td>One of the last classics of the French New Wav...</td>\n",
              "      <td>10</td>\n",
              "      <td>1</td>\n",
              "    </tr>\n",
              "    <tr>\n",
              "      <th>...</th>\n",
              "      <td>...</td>\n",
              "      <td>...</td>\n",
              "      <td>...</td>\n",
              "    </tr>\n",
              "    <tr>\n",
              "      <th>49995</th>\n",
              "      <td>(spoiler) it could be the one the worst movie ...</td>\n",
              "      <td>4</td>\n",
              "      <td>0</td>\n",
              "    </tr>\n",
              "    <tr>\n",
              "      <th>49996</th>\n",
              "      <td>So, you've seen the Romero movies, yes? And yo...</td>\n",
              "      <td>1</td>\n",
              "      <td>0</td>\n",
              "    </tr>\n",
              "    <tr>\n",
              "      <th>49997</th>\n",
              "      <td>Just listen to the Broadway cast album and to ...</td>\n",
              "      <td>3</td>\n",
              "      <td>0</td>\n",
              "    </tr>\n",
              "    <tr>\n",
              "      <th>49998</th>\n",
              "      <td>I have been a fan of the Carpenters for a long...</td>\n",
              "      <td>3</td>\n",
              "      <td>0</td>\n",
              "    </tr>\n",
              "    <tr>\n",
              "      <th>49999</th>\n",
              "      <td>Set in 1945, Skenbart follows a failed Swedish...</td>\n",
              "      <td>1</td>\n",
              "      <td>0</td>\n",
              "    </tr>\n",
              "  </tbody>\n",
              "</table>\n",
              "<p>50000 rows × 3 columns</p>\n",
              "</div>\n",
              "      <button class=\"colab-df-convert\" onclick=\"convertToInteractive('df-679de9b2-1619-44c4-9e85-01a33c7518f9')\"\n",
              "              title=\"Convert this dataframe to an interactive table.\"\n",
              "              style=\"display:none;\">\n",
              "        \n",
              "  <svg xmlns=\"http://www.w3.org/2000/svg\" height=\"24px\"viewBox=\"0 0 24 24\"\n",
              "       width=\"24px\">\n",
              "    <path d=\"M0 0h24v24H0V0z\" fill=\"none\"/>\n",
              "    <path d=\"M18.56 5.44l.94 2.06.94-2.06 2.06-.94-2.06-.94-.94-2.06-.94 2.06-2.06.94zm-11 1L8.5 8.5l.94-2.06 2.06-.94-2.06-.94L8.5 2.5l-.94 2.06-2.06.94zm10 10l.94 2.06.94-2.06 2.06-.94-2.06-.94-.94-2.06-.94 2.06-2.06.94z\"/><path d=\"M17.41 7.96l-1.37-1.37c-.4-.4-.92-.59-1.43-.59-.52 0-1.04.2-1.43.59L10.3 9.45l-7.72 7.72c-.78.78-.78 2.05 0 2.83L4 21.41c.39.39.9.59 1.41.59.51 0 1.02-.2 1.41-.59l7.78-7.78 2.81-2.81c.8-.78.8-2.07 0-2.86zM5.41 20L4 18.59l7.72-7.72 1.47 1.35L5.41 20z\"/>\n",
              "  </svg>\n",
              "      </button>\n",
              "      \n",
              "  <style>\n",
              "    .colab-df-container {\n",
              "      display:flex;\n",
              "      flex-wrap:wrap;\n",
              "      gap: 12px;\n",
              "    }\n",
              "\n",
              "    .colab-df-convert {\n",
              "      background-color: #E8F0FE;\n",
              "      border: none;\n",
              "      border-radius: 50%;\n",
              "      cursor: pointer;\n",
              "      display: none;\n",
              "      fill: #1967D2;\n",
              "      height: 32px;\n",
              "      padding: 0 0 0 0;\n",
              "      width: 32px;\n",
              "    }\n",
              "\n",
              "    .colab-df-convert:hover {\n",
              "      background-color: #E2EBFA;\n",
              "      box-shadow: 0px 1px 2px rgba(60, 64, 67, 0.3), 0px 1px 3px 1px rgba(60, 64, 67, 0.15);\n",
              "      fill: #174EA6;\n",
              "    }\n",
              "\n",
              "    [theme=dark] .colab-df-convert {\n",
              "      background-color: #3B4455;\n",
              "      fill: #D2E3FC;\n",
              "    }\n",
              "\n",
              "    [theme=dark] .colab-df-convert:hover {\n",
              "      background-color: #434B5C;\n",
              "      box-shadow: 0px 1px 3px 1px rgba(0, 0, 0, 0.15);\n",
              "      filter: drop-shadow(0px 1px 2px rgba(0, 0, 0, 0.3));\n",
              "      fill: #FFFFFF;\n",
              "    }\n",
              "  </style>\n",
              "\n",
              "      <script>\n",
              "        const buttonEl =\n",
              "          document.querySelector('#df-679de9b2-1619-44c4-9e85-01a33c7518f9 button.colab-df-convert');\n",
              "        buttonEl.style.display =\n",
              "          google.colab.kernel.accessAllowed ? 'block' : 'none';\n",
              "\n",
              "        async function convertToInteractive(key) {\n",
              "          const element = document.querySelector('#df-679de9b2-1619-44c4-9e85-01a33c7518f9');\n",
              "          const dataTable =\n",
              "            await google.colab.kernel.invokeFunction('convertToInteractive',\n",
              "                                                     [key], {});\n",
              "          if (!dataTable) return;\n",
              "\n",
              "          const docLinkHtml = 'Like what you see? Visit the ' +\n",
              "            '<a target=\"_blank\" href=https://colab.research.google.com/notebooks/data_table.ipynb>data table notebook</a>'\n",
              "            + ' to learn more about interactive tables.';\n",
              "          element.innerHTML = '';\n",
              "          dataTable['output_type'] = 'display_data';\n",
              "          await google.colab.output.renderOutput(dataTable, element);\n",
              "          const docLink = document.createElement('div');\n",
              "          docLink.innerHTML = docLinkHtml;\n",
              "          element.appendChild(docLink);\n",
              "        }\n",
              "      </script>\n",
              "    </div>\n",
              "  </div>\n",
              "  "
            ],
            "text/plain": [
              "                                                  Review  Rating  Sentiment\n",
              "0      Kurt Russell's chameleon-like performance, cou...      10          1\n",
              "1      It was extremely low budget(it some scenes it ...       8          1\n",
              "2      James Cagney is best known for his tough chara...       8          1\n",
              "3      Following the brilliant \"Goyôkiba\" (aka. \"Hanz...       8          1\n",
              "4      One of the last classics of the French New Wav...      10          1\n",
              "...                                                  ...     ...        ...\n",
              "49995  (spoiler) it could be the one the worst movie ...       4          0\n",
              "49996  So, you've seen the Romero movies, yes? And yo...       1          0\n",
              "49997  Just listen to the Broadway cast album and to ...       3          0\n",
              "49998  I have been a fan of the Carpenters for a long...       3          0\n",
              "49999  Set in 1945, Skenbart follows a failed Swedish...       1          0\n",
              "\n",
              "[50000 rows x 3 columns]"
            ]
          },
          "metadata": {},
          "execution_count": 7
        }
      ],
      "source": [
        "# 匯入資料,同時預測IMDB分數及正負面評價\n",
        "df = pd.read_csv('https://github.com/alankrantas/IMDB-movie-reviews-with-ratings_dataset/raw/main/imdb_sup.csv')\n",
        "df"
      ]
    },
    {
      "cell_type": "code",
      "execution_count": 8,
      "metadata": {
        "id": "Daay4bCqs5bH"
      },
      "outputs": [],
      "source": [
        "from sklearn.model_selection import train_test_split\n",
        "\n",
        "data, test = train_test_split(df, test_size=0.2, random_state=42)\n",
        "\n",
        "x_train = data['Review'].to_numpy()\n",
        "y_rating_train = data['Rating'].to_numpy()\n",
        "y_sentiment_train = data['Sentiment'].to_numpy()\n",
        "\n",
        "x_test = test['Review'].to_numpy()\n",
        "y_rating_test = test['Rating'].to_numpy()\n",
        "y_sentiment_test = test['Sentiment'].to_numpy()"
      ]
    },
    {
      "cell_type": "markdown",
      "source": [
        "# Model"
      ],
      "metadata": {
        "id": "tUaFjkr1r7zZ"
      }
    },
    {
      "cell_type": "code",
      "execution_count": 10,
      "metadata": {
        "id": "8UF8jQgovGKP",
        "colab": {
          "base_uri": "https://localhost:8080/"
        },
        "outputId": "79a62e03-a7ba-4ba9-ddbe-dab240c01931"
      },
      "outputs": [
        {
          "output_type": "stream",
          "name": "stdout",
          "text": [
            "Trial 10 Complete [00h 03m 51s]\n",
            "val_loss: 5.4971513748168945\n",
            "\n",
            "Best val_loss So Far: 5.4971513748168945\n",
            "Total elapsed time: 00h 51m 13s\n",
            "INFO:tensorflow:Oracle triggered exit\n",
            "1250/1250 [==============================] - 20s 15ms/step - loss: 14.9739 - regression_head_1_loss: 14.3471 - classification_head_1_loss: 0.6268 - regression_head_1_mean_squared_error: 14.3471 - classification_head_1_accuracy: 0.7021\n",
            "INFO:tensorflow:Assets written to: ./auto_model/best_model/assets\n"
          ]
        },
        {
          "output_type": "execute_result",
          "data": {
            "text/plain": [
              "<keras.callbacks.History at 0x7f8a302a7390>"
            ]
          },
          "metadata": {},
          "execution_count": 10
        }
      ],
      "source": [
        "input_node = ak.TextInput()\n",
        "\n",
        "# 文字處理區塊使用Ngram\n",
        "output_node = ak.TextBlock(\n",
        "    block_type='ngram', max_tokens=50000)(input_node)\n",
        "\n",
        "# 設定迴歸及分類區塊    \n",
        "output_node1 = ak.RegressionHead()(output_node)\n",
        "output_node2 = ak.ClassificationHead()(output_node)\n",
        "\n",
        "imdb_model = ak.AutoModel(\n",
        "    inputs=input_node,\n",
        "    outputs=[output_node1, output_node2],\n",
        "    max_trials=10, overwrite=True)\n",
        "\n",
        "imdb_model.fit(\n",
        "    x_train,\n",
        "    [y_rating_train, y_sentiment_train],\n",
        "    callbacks=[tf.keras.callbacks.EarlyStopping(patience=2)])"
      ]
    },
    {
      "cell_type": "code",
      "execution_count": 11,
      "metadata": {
        "id": "bzGJIEFmxrew",
        "colab": {
          "base_uri": "https://localhost:8080/"
        },
        "outputId": "0f35f51c-0c2e-4d5a-a34d-c34f215f061f"
      },
      "outputs": [
        {
          "output_type": "stream",
          "name": "stdout",
          "text": [
            "313/313 [==============================] - 2s 7ms/step - loss: 9.1213 - regression_head_1_loss: 8.6540 - classification_head_1_loss: 0.4673 - regression_head_1_mean_squared_error: 8.6540 - classification_head_1_accuracy: 0.8308\n"
          ]
        },
        {
          "output_type": "execute_result",
          "data": {
            "text/plain": [
              "[9.121331214904785,\n",
              " 8.653977394104004,\n",
              " 0.46734732389450073,\n",
              " 8.653977394104004,\n",
              " 0.8307999968528748]"
            ]
          },
          "metadata": {},
          "execution_count": 11
        }
      ],
      "source": [
        "imdb_model.evaluate(x_test, [y_rating_test, y_sentiment_test])"
      ]
    },
    {
      "cell_type": "code",
      "execution_count": 12,
      "metadata": {
        "id": "iI5X6CJ_uqXz",
        "colab": {
          "base_uri": "https://localhost:8080/"
        },
        "outputId": "97af7620-1c82-4d61-87ff-ec93705e5915"
      },
      "outputs": [
        {
          "output_type": "stream",
          "name": "stdout",
          "text": [
            "313/313 [==============================] - 2s 6ms/step\n"
          ]
        }
      ],
      "source": [
        "# 預測評分與情感分類\n",
        "predict_rating, predict_sentiment = imdb_model.predict(x_test)\n",
        "\n",
        "predict_rating = predict_rating.flatten()\n",
        "predict_sentiment = predict_sentiment.flatten().astype('uint8')"
      ]
    },
    {
      "cell_type": "code",
      "execution_count": 13,
      "metadata": {
        "id": "r99drZEXvdX-",
        "colab": {
          "base_uri": "https://localhost:8080/"
        },
        "outputId": "2fe1bb1a-4100-4e94-d3ce-97bb2a6f76eb"
      },
      "outputs": [
        {
          "output_type": "stream",
          "name": "stdout",
          "text": [
            "Text: Having read all of the comments on this film I am still amazed at Fox's reluctance to release a full ...\n",
            "Predicted: 9.513 (positive)\n",
            "Real: 9 (positive)\n",
            "\n",
            "Text: I like this film a lot. It has a wonderful chemistry between the actors and tells a story that is pr ...\n",
            "Predicted: 3.783 (positive)\n",
            "Real: 8 (positive)\n",
            "\n",
            "Text: I am a huge fan of Simon Pegg and have watched plenty of his movies until now and none of them have  ...\n",
            "Predicted: 3.681 (positive)\n",
            "Real: 7 (positive)\n",
            "\n",
            "Text: This was what black society was like before the crack epidemics, gangsta rap, and AIDS that beset th ...\n",
            "Predicted: 5.706 (positive)\n",
            "Real: 10 (positive)\n",
            "\n",
            "Text: pretty disappointing. i was expecting more of a horror/thriller -- but this seemed to be more of an  ...\n",
            "Predicted: 2.512 (negative)\n",
            "Real: 3 (negative)\n",
            "\n",
            "Text: As a flagship show, Attack of the Show (AOTS) is endemic of the larger fall of G4 TV; it is a show ( ...\n",
            "Predicted: 1.978 (negative)\n",
            "Real: 2 (negative)\n",
            "\n",
            "Text: Thomas Capano was not Anne Marie's boss Tom Carper, the Governor was. That is the reason the Feds be ...\n",
            "Predicted: 1.646 (negative)\n",
            "Real: 8 (positive)\n",
            "\n",
            "Text: Two escaped convicts step out of the woods and shoot two campers in the head. That's the first scene ...\n",
            "Predicted: 3.950 (positive)\n",
            "Real: 3 (negative)\n",
            "\n",
            "Text: I actually found this movie 'interesting'; finally one worth my time to watch and rent. It is true.. ...\n",
            "Predicted: 4.980 (positive)\n",
            "Real: 7 (positive)\n",
            "\n",
            "Text: In my opinion this is the best Oliver Stone flick -- probably more because of Bogosian's influence t ...\n",
            "Predicted: 3.502 (positive)\n",
            "Real: 10 (positive)\n",
            "\n"
          ]
        }
      ],
      "source": [
        "labebls = ('negative', 'positive')\n",
        "\n",
        "# 印出前10筆評論的頭100字,及其預測與真實結果\n",
        "for i in range(10):\n",
        "    print('Text:', x_test[i][:100], '...')\n",
        "    print(f'Predicted: {predict_rating[i]:.3f} ({labebls[predict_sentiment[i]]})')\n",
        "    print(f'Real: {y_rating_test[i]} ({labebls[y_sentiment_test[i]]})')\n",
        "    print('')"
      ]
    },
    {
      "cell_type": "code",
      "execution_count": 14,
      "metadata": {
        "id": "Qo0oDHUM1CDP",
        "colab": {
          "base_uri": "https://localhost:8080/"
        },
        "outputId": "6fae9e89-9001-46b1-b29e-9ae77dd0e1be"
      },
      "outputs": [
        {
          "output_type": "stream",
          "name": "stdout",
          "text": [
            "Model: \"model\"\n",
            "__________________________________________________________________________________________________\n",
            " Layer (type)                   Output Shape         Param #     Connected to                     \n",
            "==================================================================================================\n",
            " input_1 (InputLayer)           [(None,)]            0           []                               \n",
            "                                                                                                  \n",
            " expand_last_dim (ExpandLastDim  (None, 1)           0           ['input_1[0][0]']                \n",
            " )                                                                                                \n",
            "                                                                                                  \n",
            " text_vectorization (TextVector  (None, 50000)       1           ['expand_last_dim[0][0]']        \n",
            " ization)                                                                                         \n",
            "                                                                                                  \n",
            " dense (Dense)                  (None, 32)           1600032     ['text_vectorization[0][0]']     \n",
            "                                                                                                  \n",
            " re_lu (ReLU)                   (None, 32)           0           ['dense[0][0]']                  \n",
            "                                                                                                  \n",
            " dropout (Dropout)              (None, 32)           0           ['re_lu[0][0]']                  \n",
            "                                                                                                  \n",
            " dropout_2 (Dropout)            (None, 32)           0           ['dropout[0][0]']                \n",
            "                                                                                                  \n",
            " dropout_1 (Dropout)            (None, 32)           0           ['dropout[0][0]']                \n",
            "                                                                                                  \n",
            " dense_1 (Dense)                (None, 1)            33          ['dropout_2[0][0]']              \n",
            "                                                                                                  \n",
            " regression_head_1 (Dense)      (None, 1)            33          ['dropout_1[0][0]']              \n",
            "                                                                                                  \n",
            " classification_head_1 (Activat  (None, 1)           0           ['dense_1[0][0]']                \n",
            " ion)                                                                                             \n",
            "                                                                                                  \n",
            "==================================================================================================\n",
            "Total params: 1,600,099\n",
            "Trainable params: 1,600,098\n",
            "Non-trainable params: 1\n",
            "__________________________________________________________________________________________________\n"
          ]
        }
      ],
      "source": [
        "model = imdb_model.export_model()\n",
        "model.summary()"
      ]
    },
    {
      "cell_type": "code",
      "execution_count": 15,
      "metadata": {
        "id": "AJVxxuk51ChO",
        "colab": {
          "base_uri": "https://localhost:8080/",
          "height": 856
        },
        "outputId": "e4bd2095-d95c-4baa-ad40-73f107f17982"
      },
      "outputs": [
        {
          "output_type": "execute_result",
          "data": {
            "image/png": "[encoded data removed]",
            "text/plain": [
              "<IPython.core.display.Image object>"
            ]
          },
          "metadata": {},
          "execution_count": 15
        }
      ],
      "source": [
        "from tensorflow.keras.utils import plot_model\n",
        "plot_model(model)"
      ]
    }
  ],
  "metadata": {
    "colab": {
      "collapsed_sections": [],
      "name": "Multitask - IMDB Sentiment .ipynb",
      "provenance": [],
      "include_colab_link": true
    },
    "kernelspec": {
      "display_name": "Python 3",
      "language": "python",
      "name": "python3"
    },
    "language_info": {
      "codemirror_mode": {
        "name": "ipython",
        "version": 3
      },
      "file_extension": ".py",
      "mimetype": "text/x-python",
      "name": "python",
      "nbconvert_exporter": "python",
      "pygments_lexer": "ipython3",
      "version": "3.8.8"
    }
  },
  "nbformat": 4,
  "nbformat_minor": 0
}