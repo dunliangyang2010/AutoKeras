{
  "cells": [
    {
      "cell_type": "markdown",
      "metadata": {
        "id": "view-in-github",
        "colab_type": "text"
      },
      "source": [
        "<a href=\"https://colab.research.google.com/github/dunliangyang2010/AutoKeras/blob/main/AutoKeras_Auto_model_Cifar10.ipynb\" target=\"_parent\"><img src=\"https://colab.research.google.com/assets/colab-badge.svg\" alt=\"Open In Colab\"/></a>"
      ]
    },
    {
      "cell_type": "markdown",
      "id": "f57b1775",
      "metadata": {
        "id": "f57b1775"
      },
      "source": [
        "### Import library and check GPU"
      ]
    },
    {
      "cell_type": "code",
      "source": [
        "pip install autokeras"
      ],
      "metadata": {
        "id": "2ZOlqrpSffSw"
      },
      "id": "2ZOlqrpSffSw",
      "execution_count": null,
      "outputs": []
    },
    {
      "cell_type": "code",
      "execution_count": 8,
      "id": "8fc8d585",
      "metadata": {
        "id": "8fc8d585"
      },
      "outputs": [],
      "source": [
        "import matplotlib.pyplot as plt\n",
        "# import autokeras as ak\n",
        "import tensorflow as tf\n",
        "from tensorflow.keras.datasets import cifar10 "
      ]
    },
    {
      "cell_type": "code",
      "execution_count": 7,
      "id": "61f75dd1",
      "metadata": {
        "id": "61f75dd1",
        "outputId": "6f779f31-1471-4b32-f275-6063a1a05845",
        "colab": {
          "base_uri": "https://localhost:8080/"
        }
      },
      "outputs": [
        {
          "output_type": "stream",
          "name": "stdout",
          "text": [
            "WARNING:tensorflow:From <ipython-input-7-34f28f41b991>:2: is_gpu_available (from tensorflow.python.framework.test_util) is deprecated and will be removed in a future version.\n",
            "Instructions for updating:\n",
            "Use `tf.config.list_physical_devices('GPU')` instead.\n"
          ]
        },
        {
          "output_type": "execute_result",
          "data": {
            "text/plain": [
              "True"
            ]
          },
          "metadata": {},
          "execution_count": 7
        }
      ],
      "source": [
        "# check GPU is available\n",
        "tf.test.is_gpu_available()"
      ]
    },
    {
      "cell_type": "markdown",
      "id": "5834107f",
      "metadata": {
        "id": "5834107f"
      },
      "source": [
        "### Preparing the CIFAR-10 dataset"
      ]
    },
    {
      "cell_type": "code",
      "execution_count": 6,
      "id": "27c775e8",
      "metadata": {
        "colab": {
          "base_uri": "https://localhost:8080/"
        },
        "id": "27c775e8",
        "outputId": "cacbad5b-2caa-42c1-f160-bf1d7977d01e"
      },
      "outputs": [
        {
          "output_type": "stream",
          "name": "stdout",
          "text": [
            "Downloading data from https://www.cs.toronto.edu/~kriz/cifar-10-python.tar.gz\n",
            "170500096/170498071 [==============================] - 2s 0us/step\n",
            "170508288/170498071 [==============================] - 2s 0us/step\n",
            "x_train:  (50000, 32, 32, 3)\n",
            "y_train:  (50000, 1)\n",
            "x_test:  (10000, 32, 32, 3)\n",
            "y_test:  (10000, 1)\n"
          ]
        }
      ],
      "source": [
        "(x_train, y_train), (x_test, y_test) = cifar10.load_data()\n",
        "print('x_train: ', x_train.shape) \n",
        "print('y_train: ', y_train.shape)\n",
        "print('x_test: ', x_test.shape) \n",
        "print('y_test: ', y_test.shape)"
      ]
    },
    {
      "cell_type": "code",
      "execution_count": null,
      "id": "e72301e6",
      "metadata": {
        "collapsed": true,
        "id": "e72301e6",
        "outputId": "5c7ece78-e958-4bc0-ee4b-07b280d2006d"
      },
      "outputs": [
        {
          "data": {
            "text/plain": [
              "(array([[[ 59,  62,  63],\n",
              "         [ 43,  46,  45],\n",
              "         [ 50,  48,  43],\n",
              "         ...,\n",
              "         [158, 132, 108],\n",
              "         [152, 125, 102],\n",
              "         [148, 124, 103]],\n",
              " \n",
              "        [[ 16,  20,  20],\n",
              "         [  0,   0,   0],\n",
              "         [ 18,   8,   0],\n",
              "         ...,\n",
              "         [123,  88,  55],\n",
              "         [119,  83,  50],\n",
              "         [122,  87,  57]],\n",
              " \n",
              "        [[ 25,  24,  21],\n",
              "         [ 16,   7,   0],\n",
              "         [ 49,  27,   8],\n",
              "         ...,\n",
              "         [118,  84,  50],\n",
              "         [120,  84,  50],\n",
              "         [109,  73,  42]],\n",
              " \n",
              "        ...,\n",
              " \n",
              "        [[208, 170,  96],\n",
              "         [201, 153,  34],\n",
              "         [198, 161,  26],\n",
              "         ...,\n",
              "         [160, 133,  70],\n",
              "         [ 56,  31,   7],\n",
              "         [ 53,  34,  20]],\n",
              " \n",
              "        [[180, 139,  96],\n",
              "         [173, 123,  42],\n",
              "         [186, 144,  30],\n",
              "         ...,\n",
              "         [184, 148,  94],\n",
              "         [ 97,  62,  34],\n",
              "         [ 83,  53,  34]],\n",
              " \n",
              "        [[177, 144, 116],\n",
              "         [168, 129,  94],\n",
              "         [179, 142,  87],\n",
              "         ...,\n",
              "         [216, 184, 140],\n",
              "         [151, 118,  84],\n",
              "         [123,  92,  72]]], dtype=uint8),\n",
              " array([6], dtype=uint8))"
            ]
          },
          "execution_count": 4,
          "metadata": {},
          "output_type": "execute_result"
        }
      ],
      "source": [
        "x_train[0] , y_train[0]"
      ]
    },
    {
      "cell_type": "code",
      "execution_count": null,
      "id": "643ed74d",
      "metadata": {
        "id": "643ed74d",
        "outputId": "1d94aa05-a079-4892-b6a7-bde98d2c1719"
      },
      "outputs": [
        {
          "data": {
            "image/png": "[encoded data removed]",
            "text/plain": [
              "<Figure size 432x288 with 2 Axes>"
            ]
          },
          "metadata": {
            "needs_background": "light"
          },
          "output_type": "display_data"
        }
      ],
      "source": [
        "import numpy as np\n",
        "\n",
        "train_histogram = np.histogram(y_train)\n",
        "test_histogram = np.histogram(y_test)\n",
        "_, axs = plt.subplots(1, 2)\n",
        "axs[0].set_xticks(range(10))\n",
        "axs[0].bar(range(10), train_histogram[0])\n",
        "axs[0].set_title('Train dataset histogram')\n",
        "axs[1].set_xticks(range(10))\n",
        "axs[1].bar(range(10), test_histogram[0])\n",
        "axs[1].set_title('Test dataset histogram')\n",
        "plt.show()"
      ]
    },
    {
      "cell_type": "markdown",
      "id": "f705099e",
      "metadata": {
        "id": "f705099e"
      },
      "source": [
        "### Model settings\n",
        "Nodes: https://autokeras.com/node/  \n",
        "根據不同輸入類型,使用不同API,如ImageInput, TextInput etc.\n",
        "\n",
        "Block: https://autokeras.com/block/  \n",
        "可使用預先定義好的block,免去model重頭到尾做NAS,block包含convolution layer及classification layer(ClassificationHead)"
      ]
    },
    {
      "cell_type": "markdown",
      "id": "7edf7c95",
      "metadata": {
        "id": "7edf7c95"
      },
      "source": [
        "#### Method1 指定搜尋範圍為EfficientNet (B0~B7)"
      ]
    },
    {
      "cell_type": "code",
      "execution_count": null,
      "id": "5480c363",
      "metadata": {
        "id": "5480c363"
      },
      "outputs": [],
      "source": [
        "# callbacks\n",
        "callbacks = [ tf.callbacks.EarlyStopping(patience=2) ]\n",
        "\n",
        "# node costruction\n",
        "# image input\n",
        "input_node = ak.ImageInput()\n",
        "\n",
        "# main model layers \n",
        "# efficient = EfficientNet\n",
        "output_node = ak.ImageBlock(block_tpye = 'efficient'\n",
        "                           normalize = True,\n",
        "                           augment = False)(input_node)\n",
        "\n",
        "# classification layer\n",
        "output_node = ak.ClassificationHead()(output_node)\n",
        "\n",
        "# compile & fit\n",
        "clf = ak.AutoModel(inputs=input_node, \n",
        "                   outputs=output_node, \n",
        "                   max_trials=10)\n",
        "clf.fit(x_train, y_train, callbacks=callbacks)"
      ]
    },
    {
      "cell_type": "markdown",
      "id": "0e1199d1",
      "metadata": {
        "id": "0e1199d1"
      },
      "source": [
        "#### Method2 進階搜尋, 指定搜尋範圍為EfficientNet B7  \n",
        "Augments:  \n",
        "pretrained=True,即使用pretrained weights進行Transfer learning  \n",
        "tuner: 預設搜尋超參數時的方法, https://autokeras.com/auto_model/\n",
        "額外增加normalization, pooling ,drop=0 來減少參數量以加快計算"
      ]
    },
    {
      "cell_type": "code",
      "execution_count": 9,
      "id": "f7925eec",
      "metadata": {
        "id": "f7925eec",
        "outputId": "d476cd61-7497-48cf-f3e1-e1504b809ec6",
        "colab": {
          "base_uri": "https://localhost:8080/"
        }
      },
      "outputs": [
        {
          "output_type": "stream",
          "name": "stdout",
          "text": [
            "Trial 2 Complete [00h 43m 49s]\n",
            "val_loss: 1.2860339879989624\n",
            "\n",
            "Best val_loss So Far: 1.2860339879989624\n",
            "Total elapsed time: 00h 51m 22s\n",
            "INFO:tensorflow:Oracle triggered exit\n",
            "Epoch 1/10\n",
            "391/391 [==============================] - 307s 688ms/step - loss: 2.2441 - accuracy: 0.1781\n",
            "Epoch 2/10\n",
            "391/391 [==============================] - 267s 683ms/step - loss: 1.9205 - accuracy: 0.3060\n",
            "Epoch 3/10\n",
            "391/391 [==============================] - 267s 683ms/step - loss: 1.6810 - accuracy: 0.3991\n",
            "Epoch 4/10\n",
            "391/391 [==============================] - 267s 684ms/step - loss: 1.4983 - accuracy: 0.4672\n",
            "Epoch 5/10\n",
            "391/391 [==============================] - 267s 684ms/step - loss: 1.3666 - accuracy: 0.5125\n",
            "Epoch 6/10\n",
            "391/391 [==============================] - 267s 683ms/step - loss: 1.2541 - accuracy: 0.5577\n",
            "Epoch 7/10\n",
            "391/391 [==============================] - 265s 679ms/step - loss: 1.1586 - accuracy: 0.5908\n",
            "Epoch 8/10\n",
            "391/391 [==============================] - 266s 679ms/step - loss: 1.0764 - accuracy: 0.6223\n",
            "Epoch 9/10\n",
            "391/391 [==============================] - 267s 682ms/step - loss: 0.9992 - accuracy: 0.6468\n",
            "Epoch 10/10\n",
            "391/391 [==============================] - 266s 680ms/step - loss: 0.9292 - accuracy: 0.6740\n",
            "INFO:tensorflow:Assets written to: ./auto_model/best_model/assets\n"
          ]
        },
        {
          "output_type": "execute_result",
          "data": {
            "text/plain": [
              "<keras.callbacks.History at 0x7f4b895cdb90>"
            ]
          },
          "metadata": {},
          "execution_count": 9
        }
      ],
      "source": [
        "# callbacks\n",
        "callbacks = [ tf.keras.callbacks.EarlyStopping(patience=2) ]\n",
        "\n",
        "# node costruction\n",
        "# image input\n",
        "input_node = ak.ImageInput()\n",
        "\n",
        "# main model layers \n",
        "# efficient = EfficientNet\n",
        "output_node = ak.Normalization()(input_node) # normalization\n",
        "output_node = ak.EfficientNetBlock(version='b7',\n",
        "                                   pretrained=True)(output_node)\n",
        "\n",
        "output_node = ak.SpatialReduction(reduction_type='global_avg')(output_node) # pooling \n",
        "\n",
        "# classification layer\n",
        "output_node = ak.ClassificationHead(dropout=0)(output_node) # dropout=0\n",
        "\n",
        "# compile & fit\n",
        "clf = ak.AutoModel(inputs=input_node, \n",
        "                   outputs=output_node, \n",
        "                   # tuner='bayesian',\n",
        "                   max_trials=2)\n",
        "clf.fit(x_train, y_train, batch_size=128, callbacks=callbacks, epochs=10)"
      ]
    },
    {
      "cell_type": "code",
      "execution_count": 11,
      "id": "7e5eed8b",
      "metadata": {
        "collapsed": true,
        "id": "7e5eed8b",
        "outputId": "c71b03ad-d11c-4c73-b8f6-99c09677a0e7",
        "colab": {
          "base_uri": "https://localhost:8080/"
        }
      },
      "outputs": [
        {
          "output_type": "stream",
          "name": "stdout",
          "text": [
            "157/157 [==============================] - 43s 223ms/step - loss: 1.2090 - accuracy: 0.5834\n"
          ]
        },
        {
          "output_type": "execute_result",
          "data": {
            "text/plain": [
              "[1.2090259790420532, 0.5834000110626221]"
            ]
          },
          "metadata": {},
          "execution_count": 11
        }
      ],
      "source": [
        "clf.evaluate(x_test, y_test, batch_size=64)"
      ]
    },
    {
      "cell_type": "markdown",
      "id": "f0e799d2",
      "metadata": {
        "id": "f0e799d2"
      },
      "source": [
        "### Export Keras model"
      ]
    },
    {
      "cell_type": "code",
      "execution_count": 12,
      "id": "e2d6b3d8",
      "metadata": {
        "collapsed": true,
        "id": "e2d6b3d8",
        "outputId": "546fe175-84a6-4676-cd36-de079cac97f1",
        "colab": {
          "base_uri": "https://localhost:8080/"
        }
      },
      "outputs": [
        {
          "output_type": "stream",
          "name": "stdout",
          "text": [
            "INFO:tensorflow:Assets written to: cifar_best_model/assets\n"
          ]
        }
      ],
      "source": [
        "model = clf.export_model()\n",
        "model.save('cifar_best_model')"
      ]
    },
    {
      "cell_type": "markdown",
      "id": "37e1122e",
      "metadata": {
        "id": "37e1122e"
      },
      "source": [
        "### Load model"
      ]
    },
    {
      "cell_type": "code",
      "execution_count": null,
      "id": "8fc6445b",
      "metadata": {
        "id": "8fc6445b"
      },
      "outputs": [],
      "source": [
        "from tensorflow.keras.models import load_model\n",
        "keras_model = load_model('cifar_best_model', custom_objects=ak.CUSTOM_OBJECTS) \n",
        "# custom_object setting使model為AutoKeras model 與一般Keras model還是有不同\n",
        "\n",
        "# keras_model.evaluate(x_test, y_test, ) # y_test需先做one-hot"
      ]
    },
    {
      "cell_type": "code",
      "source": [
        "from google.colab import drive\n",
        "drive.mount('/content/drive')"
      ],
      "metadata": {
        "colab": {
          "base_uri": "https://localhost:8080/"
        },
        "id": "CuL2l01OA8Q3",
        "outputId": "73b219a4-836b-4110-e305-8e7d6a8886b0"
      },
      "id": "CuL2l01OA8Q3",
      "execution_count": 26,
      "outputs": [
        {
          "output_type": "stream",
          "name": "stdout",
          "text": [
            "Mounted at /content/drive\n"
          ]
        }
      ]
    },
    {
      "cell_type": "code",
      "source": [
        "!cp -r cifar_best_model /content/drive/MyDrive/model/AutoKeras/AutoModel_CIFAR10"
      ],
      "metadata": {
        "id": "liTgUwLeBOMO"
      },
      "id": "liTgUwLeBOMO",
      "execution_count": 28,
      "outputs": []
    },
    {
      "cell_type": "code",
      "source": [
        "x_test.shape, y_test.shape"
      ],
      "metadata": {
        "colab": {
          "base_uri": "https://localhost:8080/"
        },
        "id": "msLvT2Bl_9zD",
        "outputId": "0ac4e73b-1156-42bb-9924-51916fc7ce5e"
      },
      "id": "msLvT2Bl_9zD",
      "execution_count": 25,
      "outputs": [
        {
          "output_type": "execute_result",
          "data": {
            "text/plain": [
              "((10000, 32, 32, 3), (10000, 1))"
            ]
          },
          "metadata": {},
          "execution_count": 25
        }
      ]
    },
    {
      "cell_type": "code",
      "execution_count": 18,
      "id": "a0ba3c80",
      "metadata": {
        "id": "a0ba3c80",
        "colab": {
          "base_uri": "https://localhost:8080/"
        },
        "outputId": "e323aeb9-3552-4d0c-e145-0b2672cdc550"
      },
      "outputs": [
        {
          "output_type": "stream",
          "name": "stdout",
          "text": [
            "Model: \"model\"\n",
            "_________________________________________________________________\n",
            " Layer (type)                Output Shape              Param #   \n",
            "=================================================================\n",
            " input_1 (InputLayer)        [(None, 32, 32, 3)]       0         \n",
            "                                                                 \n",
            " cast_to_float32 (CastToFloa  (None, 32, 32, 3)        0         \n",
            " t32)                                                            \n",
            "                                                                 \n",
            " normalization (Normalizatio  (None, 32, 32, 3)        7         \n",
            " n)                                                              \n",
            "                                                                 \n",
            " efficientnetb7 (Functional)  (None, None, None, 2560)  64097687 \n",
            "                                                                 \n",
            " global_average_pooling2d (G  (None, 2560)             0         \n",
            " lobalAveragePooling2D)                                          \n",
            "                                                                 \n",
            " dense (Dense)               (None, 10)                25610     \n",
            "                                                                 \n",
            " classification_head_1 (Soft  (None, 10)               0         \n",
            " max)                                                            \n",
            "                                                                 \n",
            "=================================================================\n",
            "Total params: 64,123,304\n",
            "Trainable params: 63,812,570\n",
            "Non-trainable params: 310,734\n",
            "_________________________________________________________________\n"
          ]
        }
      ],
      "source": [
        "keras_model.summary()"
      ]
    },
    {
      "cell_type": "markdown",
      "id": "65556c27",
      "metadata": {
        "id": "65556c27"
      },
      "source": [
        "### Prediction"
      ]
    },
    {
      "cell_type": "code",
      "execution_count": 19,
      "id": "6b815bcc",
      "metadata": {
        "id": "6b815bcc",
        "colab": {
          "base_uri": "https://localhost:8080/"
        },
        "outputId": "681aca1d-c46c-40ec-b513-7e5055f65c89"
      },
      "outputs": [
        {
          "output_type": "execute_result",
          "data": {
            "text/plain": [
              "array([[1.7356062e-02, 3.9509214e-03, 1.2304490e-01, ..., 6.2023118e-02,\n",
              "        7.3269457e-03, 8.1152553e-03],\n",
              "       [8.5409515e-04, 1.8594846e-02, 4.7278937e-04, ..., 9.7386706e-05,\n",
              "        8.7520289e-01, 1.0441978e-01],\n",
              "       [1.2644620e-01, 4.3159202e-01, 5.4206243e-03, ..., 9.8261498e-03,\n",
              "        3.4898710e-01, 5.5047885e-02],\n",
              "       ...,\n",
              "       [6.5626999e-05, 1.5368704e-04, 1.7201951e-03, ..., 9.9418443e-03,\n",
              "        1.2533585e-04, 1.6952987e-03],\n",
              "       [2.1143968e-01, 2.4906275e-01, 3.0531070e-01, ..., 1.3504788e-02,\n",
              "        4.1659627e-02, 1.0563077e-02],\n",
              "       [6.4341580e-03, 5.9484021e-04, 2.0149667e-03, ..., 8.1554145e-01,\n",
              "        6.5045373e-04, 7.3649641e-04]], dtype=float32)"
            ]
          },
          "metadata": {},
          "execution_count": 19
        }
      ],
      "source": [
        "predicted = keras_model.predict(x_test)\n",
        "predicted # numpy array"
      ]
    },
    {
      "cell_type": "code",
      "execution_count": 20,
      "id": "ac81aca5",
      "metadata": {
        "id": "ac81aca5",
        "colab": {
          "base_uri": "https://localhost:8080/"
        },
        "outputId": "a952c237-bdbc-44d0-84e3-899008e23643"
      },
      "outputs": [
        {
          "output_type": "execute_result",
          "data": {
            "text/plain": [
              "array([5, 8, 1, ..., 5, 2, 7])"
            ]
          },
          "metadata": {},
          "execution_count": 20
        }
      ],
      "source": [
        "predicted_classes = predicted.argmax(axis=1)\n",
        "predicted_classes # arg max"
      ]
    },
    {
      "cell_type": "markdown",
      "id": "6cbb10af",
      "metadata": {
        "id": "6cbb10af"
      },
      "source": [
        "### Detail report on classes"
      ]
    },
    {
      "cell_type": "code",
      "execution_count": 21,
      "id": "a7dfce8a",
      "metadata": {
        "id": "a7dfce8a",
        "colab": {
          "base_uri": "https://localhost:8080/"
        },
        "outputId": "d7e034bf-f66a-4970-88ed-4995280040cf"
      },
      "outputs": [
        {
          "output_type": "stream",
          "name": "stdout",
          "text": [
            "              precision    recall  f1-score   support\n",
            "\n",
            "    airplane       0.62      0.71      0.66      1000\n",
            "  automobile       0.68      0.66      0.67      1000\n",
            "        bird       0.50      0.42      0.45      1000\n",
            "         cat       0.39      0.39      0.39      1000\n",
            "        deer       0.54      0.51      0.52      1000\n",
            "         dog       0.47      0.50      0.48      1000\n",
            "        frog       0.67      0.71      0.69      1000\n",
            "       horse       0.64      0.64      0.64      1000\n",
            "        ship       0.71      0.67      0.69      1000\n",
            "       truck       0.61      0.64      0.62      1000\n",
            "\n",
            "    accuracy                           0.58     10000\n",
            "   macro avg       0.58      0.58      0.58     10000\n",
            "weighted avg       0.58      0.58      0.58     10000\n",
            "\n"
          ]
        }
      ],
      "source": [
        "from sklearn.metrics import classification_report\n",
        "\n",
        "# labels \n",
        "labels = ('airplane', 'automobile', 'bird', 'cat', 'deer', 'dog', 'frog', 'horse', 'ship', 'truck')\n",
        "print(classification_report(y_test, predicted_classes, target_names=labels))"
      ]
    }
  ],
  "metadata": {
    "kernelspec": {
      "display_name": "Python 3 (ipykernel)",
      "language": "python",
      "name": "python3"
    },
    "language_info": {
      "codemirror_mode": {
        "name": "ipython",
        "version": 3
      },
      "file_extension": ".py",
      "mimetype": "text/x-python",
      "name": "python",
      "nbconvert_exporter": "python",
      "pygments_lexer": "ipython3",
      "version": "3.9.10"
    },
    "colab": {
      "name": "AutoKeras-Auto model-Cifar10.ipynb",
      "provenance": [],
      "include_colab_link": true
    },
    "accelerator": "GPU"
  },
  "nbformat": 4,
  "nbformat_minor": 5
}